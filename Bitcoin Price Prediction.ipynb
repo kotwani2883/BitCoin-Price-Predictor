{
  "nbformat": 4,
  "nbformat_minor": 0,
  "metadata": {
    "colab": {
      "name": "bitcoin1.ipynb",
      "provenance": [],
      "collapsed_sections": []
    },
    "kernelspec": {
      "name": "python3",
      "display_name": "Python 3"
    },
    "accelerator": "GPU"
  },
  "cells": [
    {
      "cell_type": "code",
      "metadata": {
        "id": "IhP9A_JS7SGe"
      },
      "source": [
        "import numpy as np\n",
        "import pandas as pd\n",
        "import matplotlib.pyplot \n",
        "import keras #importing keras using tensorflow as backend\n",
        "\n",
        "from sklearn.preprocessing import MinMaxScaler\n",
        "from sklearn.preprocessing import StandardScaler\n",
        "from sklearn.metrics import mean_squared_error\n",
        "from sklearn.model_selection  import  train_test_split\n",
        "\n",
        "from keras.models import Sequential\n",
        "from keras.layers import Dense\n",
        "from keras.layers import LSTM"
      ],
      "execution_count": 2,
      "outputs": []
    },
    {
      "cell_type": "code",
      "metadata": {
        "id": "xY8mbaND8GNI"
      },
      "source": [
        "df=pd.read_csv('/content/drive/My Drive/bitcoin_ticker.csv')"
      ],
      "execution_count": 3,
      "outputs": []
    },
    {
      "cell_type": "code",
      "metadata": {
        "id": "a2jyX2xX8Lhw",
        "outputId": "a34e746e-211c-4ad0-e8ba-49ee1237aff8",
        "colab": {
          "base_uri": "https://localhost:8080/",
          "height": 590
        }
      },
      "source": [
        "df"
      ],
      "execution_count": 4,
      "outputs": [
        {
          "output_type": "execute_result",
          "data": {
            "text/html": [
              "<div>\n",
              "<style scoped>\n",
              "    .dataframe tbody tr th:only-of-type {\n",
              "        vertical-align: middle;\n",
              "    }\n",
              "\n",
              "    .dataframe tbody tr th {\n",
              "        vertical-align: top;\n",
              "    }\n",
              "\n",
              "    .dataframe thead th {\n",
              "        text-align: right;\n",
              "    }\n",
              "</style>\n",
              "<table border=\"1\" class=\"dataframe\">\n",
              "  <thead>\n",
              "    <tr style=\"text-align: right;\">\n",
              "      <th></th>\n",
              "      <th>date_id</th>\n",
              "      <th>datetime_id</th>\n",
              "      <th>market</th>\n",
              "      <th>rpt_key</th>\n",
              "      <th>last</th>\n",
              "      <th>diff_24h</th>\n",
              "      <th>diff_per_24h</th>\n",
              "      <th>bid</th>\n",
              "      <th>ask</th>\n",
              "      <th>low</th>\n",
              "      <th>high</th>\n",
              "      <th>volume</th>\n",
              "      <th>created_at</th>\n",
              "      <th>updated_at</th>\n",
              "    </tr>\n",
              "  </thead>\n",
              "  <tbody>\n",
              "    <tr>\n",
              "      <th>0</th>\n",
              "      <td>2017-05-31</td>\n",
              "      <td>2017-06-01 00:00:00</td>\n",
              "      <td>bitstamp</td>\n",
              "      <td>btc_eur</td>\n",
              "      <td>1.996720e+03</td>\n",
              "      <td>2.029990e+03</td>\n",
              "      <td>-1.638924</td>\n",
              "      <td>2.005500e+03</td>\n",
              "      <td>2.005560e+03</td>\n",
              "      <td>1.950000e+03</td>\n",
              "      <td>2.063730e+03</td>\n",
              "      <td>2314.500750</td>\n",
              "      <td>2017-05-31 14:59:36</td>\n",
              "      <td>2017-05-31 14:59:36</td>\n",
              "    </tr>\n",
              "    <tr>\n",
              "      <th>1</th>\n",
              "      <td>2017-05-31</td>\n",
              "      <td>2017-06-01 00:00:00</td>\n",
              "      <td>bitflyer</td>\n",
              "      <td>btc_jpy</td>\n",
              "      <td>2.670980e+05</td>\n",
              "      <td>2.696490e+05</td>\n",
              "      <td>-0.946045</td>\n",
              "      <td>2.671240e+05</td>\n",
              "      <td>2.672670e+05</td>\n",
              "      <td>2.671240e+05</td>\n",
              "      <td>2.672670e+05</td>\n",
              "      <td>70922.880112</td>\n",
              "      <td>2017-05-31 14:59:36</td>\n",
              "      <td>2017-05-31 14:59:36</td>\n",
              "    </tr>\n",
              "    <tr>\n",
              "      <th>2</th>\n",
              "      <td>2017-05-31</td>\n",
              "      <td>2017-06-01 00:00:00</td>\n",
              "      <td>korbit</td>\n",
              "      <td>btc_krw</td>\n",
              "      <td>3.003500e+06</td>\n",
              "      <td>3.140000e+06</td>\n",
              "      <td>-4.347134</td>\n",
              "      <td>3.003500e+06</td>\n",
              "      <td>3.004000e+06</td>\n",
              "      <td>3.002000e+06</td>\n",
              "      <td>3.209500e+06</td>\n",
              "      <td>6109.752872</td>\n",
              "      <td>2017-05-31 14:59:36</td>\n",
              "      <td>2017-05-31 14:59:36</td>\n",
              "    </tr>\n",
              "    <tr>\n",
              "      <th>3</th>\n",
              "      <td>2017-05-31</td>\n",
              "      <td>2017-06-01 00:00:00</td>\n",
              "      <td>bitstamp</td>\n",
              "      <td>btc_usd</td>\n",
              "      <td>2.237400e+03</td>\n",
              "      <td>2.239370e+03</td>\n",
              "      <td>-0.087971</td>\n",
              "      <td>2.233090e+03</td>\n",
              "      <td>2.237400e+03</td>\n",
              "      <td>2.154280e+03</td>\n",
              "      <td>2.293460e+03</td>\n",
              "      <td>13681.282017</td>\n",
              "      <td>2017-05-31 14:59:36</td>\n",
              "      <td>2017-05-31 14:59:36</td>\n",
              "    </tr>\n",
              "    <tr>\n",
              "      <th>4</th>\n",
              "      <td>2017-05-31</td>\n",
              "      <td>2017-06-01 00:00:00</td>\n",
              "      <td>okcoin</td>\n",
              "      <td>btc_usd</td>\n",
              "      <td>2.318820e+03</td>\n",
              "      <td>2.228700e+03</td>\n",
              "      <td>4.043613</td>\n",
              "      <td>2.319400e+03</td>\n",
              "      <td>2.319990e+03</td>\n",
              "      <td>2.129780e+03</td>\n",
              "      <td>2.318820e+03</td>\n",
              "      <td>4241.641516</td>\n",
              "      <td>2017-05-31 14:59:36</td>\n",
              "      <td>2017-05-31 14:59:36</td>\n",
              "    </tr>\n",
              "    <tr>\n",
              "      <th>...</th>\n",
              "      <td>...</td>\n",
              "      <td>...</td>\n",
              "      <td>...</td>\n",
              "      <td>...</td>\n",
              "      <td>...</td>\n",
              "      <td>...</td>\n",
              "      <td>...</td>\n",
              "      <td>...</td>\n",
              "      <td>...</td>\n",
              "      <td>...</td>\n",
              "      <td>...</td>\n",
              "      <td>...</td>\n",
              "      <td>...</td>\n",
              "      <td>...</td>\n",
              "    </tr>\n",
              "    <tr>\n",
              "      <th>627185</th>\n",
              "      <td>2017-07-14</td>\n",
              "      <td>2017-07-14 13:18:00</td>\n",
              "      <td>korbit</td>\n",
              "      <td>etc_krw</td>\n",
              "      <td>2.090000e+04</td>\n",
              "      <td>2.331000e+04</td>\n",
              "      <td>-10.338910</td>\n",
              "      <td>2.084000e+04</td>\n",
              "      <td>2.091000e+04</td>\n",
              "      <td>2.000000e+04</td>\n",
              "      <td>2.340000e+04</td>\n",
              "      <td>842321.282598</td>\n",
              "      <td>2017-07-14 04:17:20</td>\n",
              "      <td>2017-07-14 04:17:20</td>\n",
              "    </tr>\n",
              "    <tr>\n",
              "      <th>627186</th>\n",
              "      <td>2017-07-14</td>\n",
              "      <td>2017-07-14 13:18:00</td>\n",
              "      <td>bitflyer</td>\n",
              "      <td>eth_btc</td>\n",
              "      <td>8.630000e-02</td>\n",
              "      <td>9.410000e-02</td>\n",
              "      <td>-8.289054</td>\n",
              "      <td>8.620000e-02</td>\n",
              "      <td>8.675000e-02</td>\n",
              "      <td>8.620000e-02</td>\n",
              "      <td>8.675000e-02</td>\n",
              "      <td>4448.239195</td>\n",
              "      <td>2017-07-14 04:17:20</td>\n",
              "      <td>2017-07-14 04:17:20</td>\n",
              "    </tr>\n",
              "    <tr>\n",
              "      <th>627187</th>\n",
              "      <td>2017-07-14</td>\n",
              "      <td>2017-07-14 13:18:00</td>\n",
              "      <td>korbit</td>\n",
              "      <td>eth_krw</td>\n",
              "      <td>2.391000e+05</td>\n",
              "      <td>2.689500e+05</td>\n",
              "      <td>-11.098717</td>\n",
              "      <td>2.386000e+05</td>\n",
              "      <td>2.391000e+05</td>\n",
              "      <td>2.350000e+05</td>\n",
              "      <td>2.690000e+05</td>\n",
              "      <td>117124.419358</td>\n",
              "      <td>2017-07-14 04:17:20</td>\n",
              "      <td>2017-07-14 04:17:20</td>\n",
              "    </tr>\n",
              "    <tr>\n",
              "      <th>627188</th>\n",
              "      <td>2017-07-14</td>\n",
              "      <td>2017-07-14 13:18:00</td>\n",
              "      <td>bitflyer</td>\n",
              "      <td>fx_btc_jpy</td>\n",
              "      <td>2.615530e+05</td>\n",
              "      <td>2.713100e+05</td>\n",
              "      <td>-3.596255</td>\n",
              "      <td>2.615540e+05</td>\n",
              "      <td>2.616260e+05</td>\n",
              "      <td>2.615540e+05</td>\n",
              "      <td>2.616260e+05</td>\n",
              "      <td>73814.151389</td>\n",
              "      <td>2017-07-14 04:17:20</td>\n",
              "      <td>2017-07-14 04:17:20</td>\n",
              "    </tr>\n",
              "    <tr>\n",
              "      <th>627189</th>\n",
              "      <td>2017-07-14</td>\n",
              "      <td>2017-07-14 13:18:00</td>\n",
              "      <td>okcoin</td>\n",
              "      <td>ltc_usd</td>\n",
              "      <td>4.593100e+01</td>\n",
              "      <td>4.891700e+01</td>\n",
              "      <td>-6.104217</td>\n",
              "      <td>4.595400e+01</td>\n",
              "      <td>4.620000e+01</td>\n",
              "      <td>4.524100e+01</td>\n",
              "      <td>4.907500e+01</td>\n",
              "      <td>52799.710000</td>\n",
              "      <td>2017-07-14 04:17:20</td>\n",
              "      <td>2017-07-14 04:17:20</td>\n",
              "    </tr>\n",
              "  </tbody>\n",
              "</table>\n",
              "<p>627190 rows × 14 columns</p>\n",
              "</div>"
            ],
            "text/plain": [
              "           date_id  ...           updated_at\n",
              "0       2017-05-31  ...  2017-05-31 14:59:36\n",
              "1       2017-05-31  ...  2017-05-31 14:59:36\n",
              "2       2017-05-31  ...  2017-05-31 14:59:36\n",
              "3       2017-05-31  ...  2017-05-31 14:59:36\n",
              "4       2017-05-31  ...  2017-05-31 14:59:36\n",
              "...            ...  ...                  ...\n",
              "627185  2017-07-14  ...  2017-07-14 04:17:20\n",
              "627186  2017-07-14  ...  2017-07-14 04:17:20\n",
              "627187  2017-07-14  ...  2017-07-14 04:17:20\n",
              "627188  2017-07-14  ...  2017-07-14 04:17:20\n",
              "627189  2017-07-14  ...  2017-07-14 04:17:20\n",
              "\n",
              "[627190 rows x 14 columns]"
            ]
          },
          "metadata": {
            "tags": []
          },
          "execution_count": 4
        }
      ]
    },
    {
      "cell_type": "code",
      "metadata": {
        "id": "TqLlTU0d8Rdz",
        "outputId": "17631516-f40e-425c-ba30-2935f21f0100",
        "colab": {
          "base_uri": "https://localhost:8080/",
          "height": 299
        }
      },
      "source": [
        "df.head(5)"
      ],
      "execution_count": 5,
      "outputs": [
        {
          "output_type": "execute_result",
          "data": {
            "text/html": [
              "<div>\n",
              "<style scoped>\n",
              "    .dataframe tbody tr th:only-of-type {\n",
              "        vertical-align: middle;\n",
              "    }\n",
              "\n",
              "    .dataframe tbody tr th {\n",
              "        vertical-align: top;\n",
              "    }\n",
              "\n",
              "    .dataframe thead th {\n",
              "        text-align: right;\n",
              "    }\n",
              "</style>\n",
              "<table border=\"1\" class=\"dataframe\">\n",
              "  <thead>\n",
              "    <tr style=\"text-align: right;\">\n",
              "      <th></th>\n",
              "      <th>date_id</th>\n",
              "      <th>datetime_id</th>\n",
              "      <th>market</th>\n",
              "      <th>rpt_key</th>\n",
              "      <th>last</th>\n",
              "      <th>diff_24h</th>\n",
              "      <th>diff_per_24h</th>\n",
              "      <th>bid</th>\n",
              "      <th>ask</th>\n",
              "      <th>low</th>\n",
              "      <th>high</th>\n",
              "      <th>volume</th>\n",
              "      <th>created_at</th>\n",
              "      <th>updated_at</th>\n",
              "    </tr>\n",
              "  </thead>\n",
              "  <tbody>\n",
              "    <tr>\n",
              "      <th>0</th>\n",
              "      <td>2017-05-31</td>\n",
              "      <td>2017-06-01 00:00:00</td>\n",
              "      <td>bitstamp</td>\n",
              "      <td>btc_eur</td>\n",
              "      <td>1996.72</td>\n",
              "      <td>2029.99</td>\n",
              "      <td>-1.638924</td>\n",
              "      <td>2005.50</td>\n",
              "      <td>2005.56</td>\n",
              "      <td>1950.00</td>\n",
              "      <td>2063.73</td>\n",
              "      <td>2314.500750</td>\n",
              "      <td>2017-05-31 14:59:36</td>\n",
              "      <td>2017-05-31 14:59:36</td>\n",
              "    </tr>\n",
              "    <tr>\n",
              "      <th>1</th>\n",
              "      <td>2017-05-31</td>\n",
              "      <td>2017-06-01 00:00:00</td>\n",
              "      <td>bitflyer</td>\n",
              "      <td>btc_jpy</td>\n",
              "      <td>267098.00</td>\n",
              "      <td>269649.00</td>\n",
              "      <td>-0.946045</td>\n",
              "      <td>267124.00</td>\n",
              "      <td>267267.00</td>\n",
              "      <td>267124.00</td>\n",
              "      <td>267267.00</td>\n",
              "      <td>70922.880112</td>\n",
              "      <td>2017-05-31 14:59:36</td>\n",
              "      <td>2017-05-31 14:59:36</td>\n",
              "    </tr>\n",
              "    <tr>\n",
              "      <th>2</th>\n",
              "      <td>2017-05-31</td>\n",
              "      <td>2017-06-01 00:00:00</td>\n",
              "      <td>korbit</td>\n",
              "      <td>btc_krw</td>\n",
              "      <td>3003500.00</td>\n",
              "      <td>3140000.00</td>\n",
              "      <td>-4.347134</td>\n",
              "      <td>3003500.00</td>\n",
              "      <td>3004000.00</td>\n",
              "      <td>3002000.00</td>\n",
              "      <td>3209500.00</td>\n",
              "      <td>6109.752872</td>\n",
              "      <td>2017-05-31 14:59:36</td>\n",
              "      <td>2017-05-31 14:59:36</td>\n",
              "    </tr>\n",
              "    <tr>\n",
              "      <th>3</th>\n",
              "      <td>2017-05-31</td>\n",
              "      <td>2017-06-01 00:00:00</td>\n",
              "      <td>bitstamp</td>\n",
              "      <td>btc_usd</td>\n",
              "      <td>2237.40</td>\n",
              "      <td>2239.37</td>\n",
              "      <td>-0.087971</td>\n",
              "      <td>2233.09</td>\n",
              "      <td>2237.40</td>\n",
              "      <td>2154.28</td>\n",
              "      <td>2293.46</td>\n",
              "      <td>13681.282017</td>\n",
              "      <td>2017-05-31 14:59:36</td>\n",
              "      <td>2017-05-31 14:59:36</td>\n",
              "    </tr>\n",
              "    <tr>\n",
              "      <th>4</th>\n",
              "      <td>2017-05-31</td>\n",
              "      <td>2017-06-01 00:00:00</td>\n",
              "      <td>okcoin</td>\n",
              "      <td>btc_usd</td>\n",
              "      <td>2318.82</td>\n",
              "      <td>2228.70</td>\n",
              "      <td>4.043613</td>\n",
              "      <td>2319.40</td>\n",
              "      <td>2319.99</td>\n",
              "      <td>2129.78</td>\n",
              "      <td>2318.82</td>\n",
              "      <td>4241.641516</td>\n",
              "      <td>2017-05-31 14:59:36</td>\n",
              "      <td>2017-05-31 14:59:36</td>\n",
              "    </tr>\n",
              "  </tbody>\n",
              "</table>\n",
              "</div>"
            ],
            "text/plain": [
              "      date_id          datetime_id  ...           created_at           updated_at\n",
              "0  2017-05-31  2017-06-01 00:00:00  ...  2017-05-31 14:59:36  2017-05-31 14:59:36\n",
              "1  2017-05-31  2017-06-01 00:00:00  ...  2017-05-31 14:59:36  2017-05-31 14:59:36\n",
              "2  2017-05-31  2017-06-01 00:00:00  ...  2017-05-31 14:59:36  2017-05-31 14:59:36\n",
              "3  2017-05-31  2017-06-01 00:00:00  ...  2017-05-31 14:59:36  2017-05-31 14:59:36\n",
              "4  2017-05-31  2017-06-01 00:00:00  ...  2017-05-31 14:59:36  2017-05-31 14:59:36\n",
              "\n",
              "[5 rows x 14 columns]"
            ]
          },
          "metadata": {
            "tags": []
          },
          "execution_count": 5
        }
      ]
    },
    {
      "cell_type": "code",
      "metadata": {
        "id": "qvwfdaSv8XUo",
        "outputId": "9934c8a3-69b2-4e53-a577-fe9d069eed23",
        "colab": {
          "base_uri": "https://localhost:8080/",
          "height": 299
        }
      },
      "source": [
        "df.tail()"
      ],
      "execution_count": 6,
      "outputs": [
        {
          "output_type": "execute_result",
          "data": {
            "text/html": [
              "<div>\n",
              "<style scoped>\n",
              "    .dataframe tbody tr th:only-of-type {\n",
              "        vertical-align: middle;\n",
              "    }\n",
              "\n",
              "    .dataframe tbody tr th {\n",
              "        vertical-align: top;\n",
              "    }\n",
              "\n",
              "    .dataframe thead th {\n",
              "        text-align: right;\n",
              "    }\n",
              "</style>\n",
              "<table border=\"1\" class=\"dataframe\">\n",
              "  <thead>\n",
              "    <tr style=\"text-align: right;\">\n",
              "      <th></th>\n",
              "      <th>date_id</th>\n",
              "      <th>datetime_id</th>\n",
              "      <th>market</th>\n",
              "      <th>rpt_key</th>\n",
              "      <th>last</th>\n",
              "      <th>diff_24h</th>\n",
              "      <th>diff_per_24h</th>\n",
              "      <th>bid</th>\n",
              "      <th>ask</th>\n",
              "      <th>low</th>\n",
              "      <th>high</th>\n",
              "      <th>volume</th>\n",
              "      <th>created_at</th>\n",
              "      <th>updated_at</th>\n",
              "    </tr>\n",
              "  </thead>\n",
              "  <tbody>\n",
              "    <tr>\n",
              "      <th>627185</th>\n",
              "      <td>2017-07-14</td>\n",
              "      <td>2017-07-14 13:18:00</td>\n",
              "      <td>korbit</td>\n",
              "      <td>etc_krw</td>\n",
              "      <td>20900.0000</td>\n",
              "      <td>23310.0000</td>\n",
              "      <td>-10.338910</td>\n",
              "      <td>20840.0000</td>\n",
              "      <td>20910.00000</td>\n",
              "      <td>20000.0000</td>\n",
              "      <td>23400.00000</td>\n",
              "      <td>842321.282598</td>\n",
              "      <td>2017-07-14 04:17:20</td>\n",
              "      <td>2017-07-14 04:17:20</td>\n",
              "    </tr>\n",
              "    <tr>\n",
              "      <th>627186</th>\n",
              "      <td>2017-07-14</td>\n",
              "      <td>2017-07-14 13:18:00</td>\n",
              "      <td>bitflyer</td>\n",
              "      <td>eth_btc</td>\n",
              "      <td>0.0863</td>\n",
              "      <td>0.0941</td>\n",
              "      <td>-8.289054</td>\n",
              "      <td>0.0862</td>\n",
              "      <td>0.08675</td>\n",
              "      <td>0.0862</td>\n",
              "      <td>0.08675</td>\n",
              "      <td>4448.239195</td>\n",
              "      <td>2017-07-14 04:17:20</td>\n",
              "      <td>2017-07-14 04:17:20</td>\n",
              "    </tr>\n",
              "    <tr>\n",
              "      <th>627187</th>\n",
              "      <td>2017-07-14</td>\n",
              "      <td>2017-07-14 13:18:00</td>\n",
              "      <td>korbit</td>\n",
              "      <td>eth_krw</td>\n",
              "      <td>239100.0000</td>\n",
              "      <td>268950.0000</td>\n",
              "      <td>-11.098717</td>\n",
              "      <td>238600.0000</td>\n",
              "      <td>239100.00000</td>\n",
              "      <td>235000.0000</td>\n",
              "      <td>269000.00000</td>\n",
              "      <td>117124.419358</td>\n",
              "      <td>2017-07-14 04:17:20</td>\n",
              "      <td>2017-07-14 04:17:20</td>\n",
              "    </tr>\n",
              "    <tr>\n",
              "      <th>627188</th>\n",
              "      <td>2017-07-14</td>\n",
              "      <td>2017-07-14 13:18:00</td>\n",
              "      <td>bitflyer</td>\n",
              "      <td>fx_btc_jpy</td>\n",
              "      <td>261553.0000</td>\n",
              "      <td>271310.0000</td>\n",
              "      <td>-3.596255</td>\n",
              "      <td>261554.0000</td>\n",
              "      <td>261626.00000</td>\n",
              "      <td>261554.0000</td>\n",
              "      <td>261626.00000</td>\n",
              "      <td>73814.151389</td>\n",
              "      <td>2017-07-14 04:17:20</td>\n",
              "      <td>2017-07-14 04:17:20</td>\n",
              "    </tr>\n",
              "    <tr>\n",
              "      <th>627189</th>\n",
              "      <td>2017-07-14</td>\n",
              "      <td>2017-07-14 13:18:00</td>\n",
              "      <td>okcoin</td>\n",
              "      <td>ltc_usd</td>\n",
              "      <td>45.9310</td>\n",
              "      <td>48.9170</td>\n",
              "      <td>-6.104217</td>\n",
              "      <td>45.9540</td>\n",
              "      <td>46.20000</td>\n",
              "      <td>45.2410</td>\n",
              "      <td>49.07500</td>\n",
              "      <td>52799.710000</td>\n",
              "      <td>2017-07-14 04:17:20</td>\n",
              "      <td>2017-07-14 04:17:20</td>\n",
              "    </tr>\n",
              "  </tbody>\n",
              "</table>\n",
              "</div>"
            ],
            "text/plain": [
              "           date_id  ...           updated_at\n",
              "627185  2017-07-14  ...  2017-07-14 04:17:20\n",
              "627186  2017-07-14  ...  2017-07-14 04:17:20\n",
              "627187  2017-07-14  ...  2017-07-14 04:17:20\n",
              "627188  2017-07-14  ...  2017-07-14 04:17:20\n",
              "627189  2017-07-14  ...  2017-07-14 04:17:20\n",
              "\n",
              "[5 rows x 14 columns]"
            ]
          },
          "metadata": {
            "tags": []
          },
          "execution_count": 6
        }
      ]
    },
    {
      "cell_type": "markdown",
      "metadata": {
        "id": "z31CwGRc8gdf"
      },
      "source": [
        "##  Data Preprocessing"
      ]
    },
    {
      "cell_type": "markdown",
      "metadata": {
        "id": "WKSlGhK-8rug"
      },
      "source": [
        "### The value_counts() function is used to get a Series containing counts of unique values.rpt_key consists of different kinds of currencies"
      ]
    },
    {
      "cell_type": "code",
      "metadata": {
        "id": "Kratxv_s8ZrS",
        "outputId": "abe5df8b-e236-4755-ec48-7306e604e7c0",
        "colab": {
          "base_uri": "https://localhost:8080/",
          "height": 185
        }
      },
      "source": [
        "df['rpt_key'].value_counts()"
      ],
      "execution_count": 7,
      "outputs": [
        {
          "output_type": "execute_result",
          "data": {
            "text/plain": [
              "btc_usd       125438\n",
              "fx_btc_jpy     62719\n",
              "btc_jpy        62719\n",
              "btc_eur        62719\n",
              "ltc_usd        62719\n",
              "etc_krw        62719\n",
              "eth_krw        62719\n",
              "btc_krw        62719\n",
              "eth_btc        62719\n",
              "Name: rpt_key, dtype: int64"
            ]
          },
          "metadata": {
            "tags": []
          },
          "execution_count": 7
        }
      ]
    },
    {
      "cell_type": "markdown",
      "metadata": {
        "id": "ABa6Q7A18qy0"
      },
      "source": [
        "### Price in various currencies are given-Considering only USD "
      ]
    },
    {
      "cell_type": "markdown",
      "metadata": {
        "id": "W8mO3ym98f10"
      },
      "source": [
        ""
      ]
    },
    {
      "cell_type": "code",
      "metadata": {
        "id": "gBdEdg45804p"
      },
      "source": [
        "df= df.loc[(df['rpt_key']=='btc_usd')]"
      ],
      "execution_count": 8,
      "outputs": []
    },
    {
      "cell_type": "code",
      "metadata": {
        "id": "stvRkMYG81nZ",
        "outputId": "78c9fd99-12c3-4e6f-8969-62a1a6adff4c",
        "colab": {
          "base_uri": "https://localhost:8080/",
          "height": 590
        }
      },
      "source": [
        "df"
      ],
      "execution_count": 9,
      "outputs": [
        {
          "output_type": "execute_result",
          "data": {
            "text/html": [
              "<div>\n",
              "<style scoped>\n",
              "    .dataframe tbody tr th:only-of-type {\n",
              "        vertical-align: middle;\n",
              "    }\n",
              "\n",
              "    .dataframe tbody tr th {\n",
              "        vertical-align: top;\n",
              "    }\n",
              "\n",
              "    .dataframe thead th {\n",
              "        text-align: right;\n",
              "    }\n",
              "</style>\n",
              "<table border=\"1\" class=\"dataframe\">\n",
              "  <thead>\n",
              "    <tr style=\"text-align: right;\">\n",
              "      <th></th>\n",
              "      <th>date_id</th>\n",
              "      <th>datetime_id</th>\n",
              "      <th>market</th>\n",
              "      <th>rpt_key</th>\n",
              "      <th>last</th>\n",
              "      <th>diff_24h</th>\n",
              "      <th>diff_per_24h</th>\n",
              "      <th>bid</th>\n",
              "      <th>ask</th>\n",
              "      <th>low</th>\n",
              "      <th>high</th>\n",
              "      <th>volume</th>\n",
              "      <th>created_at</th>\n",
              "      <th>updated_at</th>\n",
              "    </tr>\n",
              "  </thead>\n",
              "  <tbody>\n",
              "    <tr>\n",
              "      <th>3</th>\n",
              "      <td>2017-05-31</td>\n",
              "      <td>2017-06-01 00:00:00</td>\n",
              "      <td>bitstamp</td>\n",
              "      <td>btc_usd</td>\n",
              "      <td>2237.40</td>\n",
              "      <td>2239.37</td>\n",
              "      <td>-0.087971</td>\n",
              "      <td>2233.09</td>\n",
              "      <td>2237.40</td>\n",
              "      <td>2154.28</td>\n",
              "      <td>2293.46</td>\n",
              "      <td>13681.282017</td>\n",
              "      <td>2017-05-31 14:59:36</td>\n",
              "      <td>2017-05-31 14:59:36</td>\n",
              "    </tr>\n",
              "    <tr>\n",
              "      <th>4</th>\n",
              "      <td>2017-05-31</td>\n",
              "      <td>2017-06-01 00:00:00</td>\n",
              "      <td>okcoin</td>\n",
              "      <td>btc_usd</td>\n",
              "      <td>2318.82</td>\n",
              "      <td>2228.70</td>\n",
              "      <td>4.043613</td>\n",
              "      <td>2319.40</td>\n",
              "      <td>2319.99</td>\n",
              "      <td>2129.78</td>\n",
              "      <td>2318.82</td>\n",
              "      <td>4241.641516</td>\n",
              "      <td>2017-05-31 14:59:36</td>\n",
              "      <td>2017-05-31 14:59:36</td>\n",
              "    </tr>\n",
              "    <tr>\n",
              "      <th>15</th>\n",
              "      <td>2017-06-01</td>\n",
              "      <td>2017-06-01 00:01:00</td>\n",
              "      <td>bitstamp</td>\n",
              "      <td>btc_usd</td>\n",
              "      <td>2248.39</td>\n",
              "      <td>2242.44</td>\n",
              "      <td>0.265336</td>\n",
              "      <td>2247.77</td>\n",
              "      <td>2248.38</td>\n",
              "      <td>2154.28</td>\n",
              "      <td>2293.46</td>\n",
              "      <td>13701.698603</td>\n",
              "      <td>2017-05-31 15:00:36</td>\n",
              "      <td>2017-05-31 15:00:36</td>\n",
              "    </tr>\n",
              "    <tr>\n",
              "      <th>16</th>\n",
              "      <td>2017-06-01</td>\n",
              "      <td>2017-06-01 00:01:00</td>\n",
              "      <td>okcoin</td>\n",
              "      <td>btc_usd</td>\n",
              "      <td>2320.42</td>\n",
              "      <td>2228.40</td>\n",
              "      <td>4.129420</td>\n",
              "      <td>2320.99</td>\n",
              "      <td>2321.49</td>\n",
              "      <td>2129.78</td>\n",
              "      <td>2322.00</td>\n",
              "      <td>4260.261516</td>\n",
              "      <td>2017-05-31 15:00:36</td>\n",
              "      <td>2017-05-31 15:00:36</td>\n",
              "    </tr>\n",
              "    <tr>\n",
              "      <th>23</th>\n",
              "      <td>2017-06-01</td>\n",
              "      <td>2017-06-01 00:02:00</td>\n",
              "      <td>bitstamp</td>\n",
              "      <td>btc_usd</td>\n",
              "      <td>2248.35</td>\n",
              "      <td>2238.58</td>\n",
              "      <td>0.436437</td>\n",
              "      <td>2248.35</td>\n",
              "      <td>2248.69</td>\n",
              "      <td>2154.28</td>\n",
              "      <td>2293.46</td>\n",
              "      <td>13742.110913</td>\n",
              "      <td>2017-05-31 15:01:36</td>\n",
              "      <td>2017-05-31 15:01:36</td>\n",
              "    </tr>\n",
              "    <tr>\n",
              "      <th>...</th>\n",
              "      <td>...</td>\n",
              "      <td>...</td>\n",
              "      <td>...</td>\n",
              "      <td>...</td>\n",
              "      <td>...</td>\n",
              "      <td>...</td>\n",
              "      <td>...</td>\n",
              "      <td>...</td>\n",
              "      <td>...</td>\n",
              "      <td>...</td>\n",
              "      <td>...</td>\n",
              "      <td>...</td>\n",
              "      <td>...</td>\n",
              "      <td>...</td>\n",
              "    </tr>\n",
              "    <tr>\n",
              "      <th>627164</th>\n",
              "      <td>2017-07-14</td>\n",
              "      <td>2017-07-14 13:16:00</td>\n",
              "      <td>okcoin</td>\n",
              "      <td>btc_usd</td>\n",
              "      <td>2394.03</td>\n",
              "      <td>2500.01</td>\n",
              "      <td>-4.239183</td>\n",
              "      <td>2394.35</td>\n",
              "      <td>2405.72</td>\n",
              "      <td>2378.02</td>\n",
              "      <td>2529.20</td>\n",
              "      <td>1111.540000</td>\n",
              "      <td>2017-07-14 04:15:20</td>\n",
              "      <td>2017-07-14 04:15:20</td>\n",
              "    </tr>\n",
              "    <tr>\n",
              "      <th>627173</th>\n",
              "      <td>2017-07-14</td>\n",
              "      <td>2017-07-14 13:17:00</td>\n",
              "      <td>bitstamp</td>\n",
              "      <td>btc_usd</td>\n",
              "      <td>2320.47</td>\n",
              "      <td>2407.06</td>\n",
              "      <td>-3.597335</td>\n",
              "      <td>2320.48</td>\n",
              "      <td>2322.55</td>\n",
              "      <td>2307.46</td>\n",
              "      <td>2413.60</td>\n",
              "      <td>7969.263583</td>\n",
              "      <td>2017-07-14 04:16:20</td>\n",
              "      <td>2017-07-14 04:16:20</td>\n",
              "    </tr>\n",
              "    <tr>\n",
              "      <th>627174</th>\n",
              "      <td>2017-07-14</td>\n",
              "      <td>2017-07-14 13:17:00</td>\n",
              "      <td>okcoin</td>\n",
              "      <td>btc_usd</td>\n",
              "      <td>2394.03</td>\n",
              "      <td>2500.01</td>\n",
              "      <td>-4.239183</td>\n",
              "      <td>2394.42</td>\n",
              "      <td>2405.69</td>\n",
              "      <td>2378.02</td>\n",
              "      <td>2529.20</td>\n",
              "      <td>1111.540000</td>\n",
              "      <td>2017-07-14 04:16:20</td>\n",
              "      <td>2017-07-14 04:16:20</td>\n",
              "    </tr>\n",
              "    <tr>\n",
              "      <th>627183</th>\n",
              "      <td>2017-07-14</td>\n",
              "      <td>2017-07-14 13:18:00</td>\n",
              "      <td>bitstamp</td>\n",
              "      <td>btc_usd</td>\n",
              "      <td>2320.47</td>\n",
              "      <td>2408.00</td>\n",
              "      <td>-3.634967</td>\n",
              "      <td>2320.57</td>\n",
              "      <td>2322.55</td>\n",
              "      <td>2307.46</td>\n",
              "      <td>2413.60</td>\n",
              "      <td>7968.970715</td>\n",
              "      <td>2017-07-14 04:17:20</td>\n",
              "      <td>2017-07-14 04:17:20</td>\n",
              "    </tr>\n",
              "    <tr>\n",
              "      <th>627184</th>\n",
              "      <td>2017-07-14</td>\n",
              "      <td>2017-07-14 13:18:00</td>\n",
              "      <td>okcoin</td>\n",
              "      <td>btc_usd</td>\n",
              "      <td>2394.03</td>\n",
              "      <td>2500.01</td>\n",
              "      <td>-4.239183</td>\n",
              "      <td>2394.17</td>\n",
              "      <td>2405.69</td>\n",
              "      <td>2378.02</td>\n",
              "      <td>2529.20</td>\n",
              "      <td>1111.221000</td>\n",
              "      <td>2017-07-14 04:17:20</td>\n",
              "      <td>2017-07-14 04:17:20</td>\n",
              "    </tr>\n",
              "  </tbody>\n",
              "</table>\n",
              "<p>125438 rows × 14 columns</p>\n",
              "</div>"
            ],
            "text/plain": [
              "           date_id  ...           updated_at\n",
              "3       2017-05-31  ...  2017-05-31 14:59:36\n",
              "4       2017-05-31  ...  2017-05-31 14:59:36\n",
              "15      2017-06-01  ...  2017-05-31 15:00:36\n",
              "16      2017-06-01  ...  2017-05-31 15:00:36\n",
              "23      2017-06-01  ...  2017-05-31 15:01:36\n",
              "...            ...  ...                  ...\n",
              "627164  2017-07-14  ...  2017-07-14 04:15:20\n",
              "627173  2017-07-14  ...  2017-07-14 04:16:20\n",
              "627174  2017-07-14  ...  2017-07-14 04:16:20\n",
              "627183  2017-07-14  ...  2017-07-14 04:17:20\n",
              "627184  2017-07-14  ...  2017-07-14 04:17:20\n",
              "\n",
              "[125438 rows x 14 columns]"
            ]
          },
          "metadata": {
            "tags": []
          },
          "execution_count": 9
        }
      ]
    },
    {
      "cell_type": "code",
      "metadata": {
        "id": "AIkUHRto84IZ",
        "outputId": "b01e2443-02fe-468c-ecaf-6a20c8007e98",
        "colab": {
          "base_uri": "https://localhost:8080/",
          "height": 299
        }
      },
      "source": [
        "df.head()"
      ],
      "execution_count": 10,
      "outputs": [
        {
          "output_type": "execute_result",
          "data": {
            "text/html": [
              "<div>\n",
              "<style scoped>\n",
              "    .dataframe tbody tr th:only-of-type {\n",
              "        vertical-align: middle;\n",
              "    }\n",
              "\n",
              "    .dataframe tbody tr th {\n",
              "        vertical-align: top;\n",
              "    }\n",
              "\n",
              "    .dataframe thead th {\n",
              "        text-align: right;\n",
              "    }\n",
              "</style>\n",
              "<table border=\"1\" class=\"dataframe\">\n",
              "  <thead>\n",
              "    <tr style=\"text-align: right;\">\n",
              "      <th></th>\n",
              "      <th>date_id</th>\n",
              "      <th>datetime_id</th>\n",
              "      <th>market</th>\n",
              "      <th>rpt_key</th>\n",
              "      <th>last</th>\n",
              "      <th>diff_24h</th>\n",
              "      <th>diff_per_24h</th>\n",
              "      <th>bid</th>\n",
              "      <th>ask</th>\n",
              "      <th>low</th>\n",
              "      <th>high</th>\n",
              "      <th>volume</th>\n",
              "      <th>created_at</th>\n",
              "      <th>updated_at</th>\n",
              "    </tr>\n",
              "  </thead>\n",
              "  <tbody>\n",
              "    <tr>\n",
              "      <th>3</th>\n",
              "      <td>2017-05-31</td>\n",
              "      <td>2017-06-01 00:00:00</td>\n",
              "      <td>bitstamp</td>\n",
              "      <td>btc_usd</td>\n",
              "      <td>2237.40</td>\n",
              "      <td>2239.37</td>\n",
              "      <td>-0.087971</td>\n",
              "      <td>2233.09</td>\n",
              "      <td>2237.40</td>\n",
              "      <td>2154.28</td>\n",
              "      <td>2293.46</td>\n",
              "      <td>13681.282017</td>\n",
              "      <td>2017-05-31 14:59:36</td>\n",
              "      <td>2017-05-31 14:59:36</td>\n",
              "    </tr>\n",
              "    <tr>\n",
              "      <th>4</th>\n",
              "      <td>2017-05-31</td>\n",
              "      <td>2017-06-01 00:00:00</td>\n",
              "      <td>okcoin</td>\n",
              "      <td>btc_usd</td>\n",
              "      <td>2318.82</td>\n",
              "      <td>2228.70</td>\n",
              "      <td>4.043613</td>\n",
              "      <td>2319.40</td>\n",
              "      <td>2319.99</td>\n",
              "      <td>2129.78</td>\n",
              "      <td>2318.82</td>\n",
              "      <td>4241.641516</td>\n",
              "      <td>2017-05-31 14:59:36</td>\n",
              "      <td>2017-05-31 14:59:36</td>\n",
              "    </tr>\n",
              "    <tr>\n",
              "      <th>15</th>\n",
              "      <td>2017-06-01</td>\n",
              "      <td>2017-06-01 00:01:00</td>\n",
              "      <td>bitstamp</td>\n",
              "      <td>btc_usd</td>\n",
              "      <td>2248.39</td>\n",
              "      <td>2242.44</td>\n",
              "      <td>0.265336</td>\n",
              "      <td>2247.77</td>\n",
              "      <td>2248.38</td>\n",
              "      <td>2154.28</td>\n",
              "      <td>2293.46</td>\n",
              "      <td>13701.698603</td>\n",
              "      <td>2017-05-31 15:00:36</td>\n",
              "      <td>2017-05-31 15:00:36</td>\n",
              "    </tr>\n",
              "    <tr>\n",
              "      <th>16</th>\n",
              "      <td>2017-06-01</td>\n",
              "      <td>2017-06-01 00:01:00</td>\n",
              "      <td>okcoin</td>\n",
              "      <td>btc_usd</td>\n",
              "      <td>2320.42</td>\n",
              "      <td>2228.40</td>\n",
              "      <td>4.129420</td>\n",
              "      <td>2320.99</td>\n",
              "      <td>2321.49</td>\n",
              "      <td>2129.78</td>\n",
              "      <td>2322.00</td>\n",
              "      <td>4260.261516</td>\n",
              "      <td>2017-05-31 15:00:36</td>\n",
              "      <td>2017-05-31 15:00:36</td>\n",
              "    </tr>\n",
              "    <tr>\n",
              "      <th>23</th>\n",
              "      <td>2017-06-01</td>\n",
              "      <td>2017-06-01 00:02:00</td>\n",
              "      <td>bitstamp</td>\n",
              "      <td>btc_usd</td>\n",
              "      <td>2248.35</td>\n",
              "      <td>2238.58</td>\n",
              "      <td>0.436437</td>\n",
              "      <td>2248.35</td>\n",
              "      <td>2248.69</td>\n",
              "      <td>2154.28</td>\n",
              "      <td>2293.46</td>\n",
              "      <td>13742.110913</td>\n",
              "      <td>2017-05-31 15:01:36</td>\n",
              "      <td>2017-05-31 15:01:36</td>\n",
              "    </tr>\n",
              "  </tbody>\n",
              "</table>\n",
              "</div>"
            ],
            "text/plain": [
              "       date_id          datetime_id  ...           created_at           updated_at\n",
              "3   2017-05-31  2017-06-01 00:00:00  ...  2017-05-31 14:59:36  2017-05-31 14:59:36\n",
              "4   2017-05-31  2017-06-01 00:00:00  ...  2017-05-31 14:59:36  2017-05-31 14:59:36\n",
              "15  2017-06-01  2017-06-01 00:01:00  ...  2017-05-31 15:00:36  2017-05-31 15:00:36\n",
              "16  2017-06-01  2017-06-01 00:01:00  ...  2017-05-31 15:00:36  2017-05-31 15:00:36\n",
              "23  2017-06-01  2017-06-01 00:02:00  ...  2017-05-31 15:01:36  2017-05-31 15:01:36\n",
              "\n",
              "[5 rows x 14 columns]"
            ]
          },
          "metadata": {
            "tags": []
          },
          "execution_count": 10
        }
      ]
    },
    {
      "cell_type": "markdown",
      "metadata": {
        "id": "djZTPOwy894X"
      },
      "source": [
        "### datetime_id to datatime"
      ]
    },
    {
      "cell_type": "code",
      "metadata": {
        "id": "hC2QnfOn86_q"
      },
      "source": [
        "df1=df.reset_index(drop=True)['last']"
      ],
      "execution_count": 11,
      "outputs": []
    },
    {
      "cell_type": "code",
      "metadata": {
        "id": "zie_98P28-lE",
        "outputId": "18579997-42b2-4884-9bde-018638496016",
        "colab": {
          "base_uri": "https://localhost:8080/",
          "height": 218
        }
      },
      "source": [
        "df1"
      ],
      "execution_count": 12,
      "outputs": [
        {
          "output_type": "execute_result",
          "data": {
            "text/plain": [
              "0         2237.40\n",
              "1         2318.82\n",
              "2         2248.39\n",
              "3         2320.42\n",
              "4         2248.35\n",
              "           ...   \n",
              "125433    2394.03\n",
              "125434    2320.47\n",
              "125435    2394.03\n",
              "125436    2320.47\n",
              "125437    2394.03\n",
              "Name: last, Length: 125438, dtype: float64"
            ]
          },
          "metadata": {
            "tags": []
          },
          "execution_count": 12
        }
      ]
    },
    {
      "cell_type": "markdown",
      "metadata": {
        "id": "shN1oEhk9FTJ"
      },
      "source": [
        "### Feature scaling (Scaling  last values between 0-1)"
      ]
    },
    {
      "cell_type": "code",
      "metadata": {
        "id": "N8YpXwhP9C25"
      },
      "source": [
        "scaler=MinMaxScaler(feature_range=(0,1))\n",
        "df1=scaler.fit_transform(np.array(df1).reshape(-1,1))"
      ],
      "execution_count": 13,
      "outputs": []
    },
    {
      "cell_type": "code",
      "metadata": {
        "id": "9nHNoqSu9F80",
        "outputId": "b49d861e-0d7f-480a-9c9b-0a105283031e",
        "colab": {
          "base_uri": "https://localhost:8080/",
          "height": 134
        }
      },
      "source": [
        "print(df1)"
      ],
      "execution_count": 14,
      "outputs": [
        {
          "output_type": "stream",
          "text": [
            "[[0.        ]\n",
            " [0.08614141]\n",
            " [0.01162729]\n",
            " ...\n",
            " [0.16571271]\n",
            " [0.08788709]\n",
            " [0.16571271]]\n"
          ],
          "name": "stdout"
        }
      ]
    },
    {
      "cell_type": "markdown",
      "metadata": {
        "id": "8XL-0eqN9Pzj"
      },
      "source": [
        "### Splitting  dataset into training and testing"
      ]
    },
    {
      "cell_type": "code",
      "metadata": {
        "id": "smjMrVP_9L31"
      },
      "source": [
        "##splitting dataset into train and test split\n",
        "training_size=int(len(df1)*0.65)\n",
        "test_size=len(df1)-training_size\n",
        "train_data,test_data=df1[0:training_size,:],df1[training_size:len(df1),:1]"
      ],
      "execution_count": 15,
      "outputs": []
    },
    {
      "cell_type": "code",
      "metadata": {
        "id": "WrHLu81h9Qgi",
        "outputId": "5cdfa23b-3886-4e13-917d-3dacaf940523",
        "colab": {
          "base_uri": "https://localhost:8080/",
          "height": 34
        }
      },
      "source": [
        "training_size,test_size"
      ],
      "execution_count": 16,
      "outputs": [
        {
          "output_type": "execute_result",
          "data": {
            "text/plain": [
              "(81534, 43904)"
            ]
          },
          "metadata": {
            "tags": []
          },
          "execution_count": 16
        }
      ]
    },
    {
      "cell_type": "code",
      "metadata": {
        "id": "7BLdzlXW9V5U",
        "outputId": "c48d682c-2b78-43a0-a2c4-0ea5a5ccaea3",
        "colab": {
          "base_uri": "https://localhost:8080/",
          "height": 134
        }
      },
      "source": [
        "train_data"
      ],
      "execution_count": 17,
      "outputs": [
        {
          "output_type": "execute_result",
          "data": {
            "text/plain": [
              "array([[0.        ],\n",
              "       [0.08614141],\n",
              "       [0.01162729],\n",
              "       ...,\n",
              "       [0.48484432],\n",
              "       [0.35211968],\n",
              "       [0.48241094]])"
            ]
          },
          "metadata": {
            "tags": []
          },
          "execution_count": 17
        }
      ]
    },
    {
      "cell_type": "code",
      "metadata": {
        "id": "LTAwhY8T9X0Y",
        "outputId": "65850416-5be0-4bba-ebbf-52b880d82c3d",
        "colab": {
          "base_uri": "https://localhost:8080/",
          "height": 134
        }
      },
      "source": [
        "test_data"
      ],
      "execution_count": 18,
      "outputs": [
        {
          "output_type": "execute_result",
          "data": {
            "text/plain": [
              "array([[0.35186576],\n",
              "       [0.47718448],\n",
              "       [0.3470625 ],\n",
              "       ...,\n",
              "       [0.16571271],\n",
              "       [0.08788709],\n",
              "       [0.16571271]])"
            ]
          },
          "metadata": {
            "tags": []
          },
          "execution_count": 18
        }
      ]
    },
    {
      "cell_type": "markdown",
      "metadata": {
        "id": "EjVLBAdu9e6t"
      },
      "source": [
        "### Convert an array of values(numpy array) into a dataset Matrix"
      ]
    },
    {
      "cell_type": "code",
      "metadata": {
        "id": "XjpHJbUS9ZtF"
      },
      "source": [
        "import numpy\n",
        "def create_dataset(dataset, time_step=1):\n",
        "    dataX, dataY = [], []\n",
        "    for i in range(len(dataset)-time_step-1):\n",
        "        a = dataset[i:(i+time_step), 0]   \n",
        "        dataX.append(a)\n",
        "        dataY.append(dataset[i + time_step, 0])\n",
        "    return numpy.array(dataX), numpy.array(dataY)"
      ],
      "execution_count": 19,
      "outputs": []
    },
    {
      "cell_type": "code",
      "metadata": {
        "id": "8WCJc7Ff9fcK"
      },
      "source": [
        "# reshape \n",
        "time_step = 10\n",
        "X_train, y_train = create_dataset(train_data, time_step)\n",
        "X_test, ytest = create_dataset(test_data, time_step)"
      ],
      "execution_count": 22,
      "outputs": []
    },
    {
      "cell_type": "code",
      "metadata": {
        "id": "HS6UPxpY9knB",
        "outputId": "4e1ee66c-9ba2-4e15-a8d1-bbd0c84ee9ad",
        "colab": {
          "base_uri": "https://localhost:8080/",
          "height": 67
        }
      },
      "source": [
        "print(X_train.shape), print(y_train.shape)"
      ],
      "execution_count": 23,
      "outputs": [
        {
          "output_type": "stream",
          "text": [
            "(81523, 10)\n",
            "(81523,)\n"
          ],
          "name": "stdout"
        },
        {
          "output_type": "execute_result",
          "data": {
            "text/plain": [
              "(None, None)"
            ]
          },
          "metadata": {
            "tags": []
          },
          "execution_count": 23
        }
      ]
    },
    {
      "cell_type": "code",
      "metadata": {
        "id": "Yeuo6kc79m-p",
        "outputId": "23941dde-929e-4a16-9ecd-5bece70763cc",
        "colab": {
          "base_uri": "https://localhost:8080/",
          "height": 50
        }
      },
      "source": [
        "y_train"
      ],
      "execution_count": 24,
      "outputs": [
        {
          "output_type": "execute_result",
          "data": {
            "text/plain": [
              "array([0.02114919, 0.14533586, 0.01936119, ..., 0.34454448, 0.48484432,\n",
              "       0.35211968])"
            ]
          },
          "metadata": {
            "tags": []
          },
          "execution_count": 24
        }
      ]
    },
    {
      "cell_type": "code",
      "metadata": {
        "id": "KSmf_kzG98O_",
        "outputId": "983d15ad-2816-4430-ba51-07579aa61456",
        "colab": {
          "base_uri": "https://localhost:8080/",
          "height": 235
        }
      },
      "source": [
        "X_train"
      ],
      "execution_count": 25,
      "outputs": [
        {
          "output_type": "execute_result",
          "data": {
            "text/plain": [
              "array([[0.        , 0.08614141, 0.01162729, ..., 0.13436452, 0.01732985,\n",
              "        0.13982374],\n",
              "       [0.08614141, 0.01162729, 0.08783419, ..., 0.01732985, 0.13982374,\n",
              "        0.02114919],\n",
              "       [0.01162729, 0.08783419, 0.01158497, ..., 0.13982374, 0.02114919,\n",
              "        0.14533586],\n",
              "       ...,\n",
              "       [0.34526392, 0.44710587, 0.35188692, ..., 0.49860875, 0.3555264 ,\n",
              "        0.48483374],\n",
              "       [0.44710587, 0.35188692, 0.45610935, ..., 0.3555264 , 0.48483374,\n",
              "        0.34454448],\n",
              "       [0.35188692, 0.45610935, 0.35294491, ..., 0.48483374, 0.34454448,\n",
              "        0.48484432]])"
            ]
          },
          "metadata": {
            "tags": []
          },
          "execution_count": 25
        }
      ]
    },
    {
      "cell_type": "code",
      "metadata": {
        "id": "dwx-Mcgp9-bT",
        "outputId": "de023ba3-2397-4120-c8e0-7d767a85b0f0",
        "colab": {
          "base_uri": "https://localhost:8080/",
          "height": 67
        }
      },
      "source": [
        "print(X_test.shape), print(ytest.shape)"
      ],
      "execution_count": 26,
      "outputs": [
        {
          "output_type": "stream",
          "text": [
            "(43893, 10)\n",
            "(43893,)\n"
          ],
          "name": "stdout"
        },
        {
          "output_type": "execute_result",
          "data": {
            "text/plain": [
              "(None, None)"
            ]
          },
          "metadata": {
            "tags": []
          },
          "execution_count": 26
        }
      ]
    },
    {
      "cell_type": "markdown",
      "metadata": {
        "id": "IZsiyiBH-Gm_"
      },
      "source": [
        "### Reshaping input to be [samples ,time steps, features] from [samples,features]"
      ]
    },
    {
      "cell_type": "code",
      "metadata": {
        "id": "elD-HKwA-BXo"
      },
      "source": [
        "# reshape input to be [samples, time steps, features] which is required for LSTM\n",
        "X_train =X_train.reshape(X_train.shape[0],X_train.shape[1] , 1)\n",
        "X_test = X_test.reshape(X_test.shape[0],X_test.shape[1] , 1)"
      ],
      "execution_count": 27,
      "outputs": []
    },
    {
      "cell_type": "markdown",
      "metadata": {
        "id": "nXQvqcv1-MRn"
      },
      "source": [
        "## Building the Model"
      ]
    },
    {
      "cell_type": "code",
      "metadata": {
        "id": "fIpca6tg-HL-"
      },
      "source": [
        "model=Sequential()\n",
        "model.add(LSTM(4,return_sequences=True,input_shape=(10,1)))\n",
        "model.add(LSTM(4,return_sequences=True))\n",
        "model.add(LSTM(4))\n",
        "model.add(Dense(1))\n",
        "model.compile(loss='mean_squared_error',optimizer='adam')\n"
      ],
      "execution_count": 28,
      "outputs": []
    },
    {
      "cell_type": "code",
      "metadata": {
        "id": "TmurCH_L-M0G",
        "outputId": "2f286eb2-9045-4852-9d18-f42169d2b94a",
        "colab": {
          "base_uri": "https://localhost:8080/",
          "height": 286
        }
      },
      "source": [
        "model.summary()"
      ],
      "execution_count": 29,
      "outputs": [
        {
          "output_type": "stream",
          "text": [
            "Model: \"sequential\"\n",
            "_________________________________________________________________\n",
            "Layer (type)                 Output Shape              Param #   \n",
            "=================================================================\n",
            "lstm (LSTM)                  (None, 10, 4)             96        \n",
            "_________________________________________________________________\n",
            "lstm_1 (LSTM)                (None, 10, 4)             144       \n",
            "_________________________________________________________________\n",
            "lstm_2 (LSTM)                (None, 4)                 144       \n",
            "_________________________________________________________________\n",
            "dense (Dense)                (None, 1)                 5         \n",
            "=================================================================\n",
            "Total params: 389\n",
            "Trainable params: 389\n",
            "Non-trainable params: 0\n",
            "_________________________________________________________________\n"
          ],
          "name": "stdout"
        }
      ]
    },
    {
      "cell_type": "code",
      "metadata": {
        "id": "sFvBofIm-hed",
        "outputId": "a3558aea-8256-4560-b643-43411f92eada",
        "colab": {
          "base_uri": "https://localhost:8080/",
          "height": 1000
        }
      },
      "source": [
        "model.fit(X_train,y_train,validation_data=(X_test,ytest),epochs=100,batch_size=64,verbose=1)"
      ],
      "execution_count": 37,
      "outputs": [
        {
          "output_type": "stream",
          "text": [
            "Epoch 1/100\n",
            "1274/1274 [==============================] - 15s 12ms/step - loss: 2.5775e-04 - val_loss: 2.9515e-04\n",
            "Epoch 2/100\n",
            "1274/1274 [==============================] - 15s 12ms/step - loss: 2.0832e-04 - val_loss: 2.0048e-04\n",
            "Epoch 3/100\n",
            "1274/1274 [==============================] - 15s 12ms/step - loss: 1.8868e-04 - val_loss: 1.7239e-04\n",
            "Epoch 4/100\n",
            "1274/1274 [==============================] - 15s 12ms/step - loss: 1.6867e-04 - val_loss: 1.5317e-04\n",
            "Epoch 5/100\n",
            "1274/1274 [==============================] - 15s 12ms/step - loss: 1.5406e-04 - val_loss: 2.9360e-04\n",
            "Epoch 6/100\n",
            "1274/1274 [==============================] - 15s 12ms/step - loss: 1.4398e-04 - val_loss: 1.3563e-04\n",
            "Epoch 7/100\n",
            "1274/1274 [==============================] - 15s 12ms/step - loss: 1.3899e-04 - val_loss: 1.3177e-04\n",
            "Epoch 8/100\n",
            "1274/1274 [==============================] - 15s 12ms/step - loss: 1.2835e-04 - val_loss: 1.4718e-04\n",
            "Epoch 9/100\n",
            "1274/1274 [==============================] - 15s 12ms/step - loss: 1.2341e-04 - val_loss: 1.5469e-04\n",
            "Epoch 10/100\n",
            "1274/1274 [==============================] - 15s 12ms/step - loss: 1.1749e-04 - val_loss: 1.1403e-04\n",
            "Epoch 11/100\n",
            "1274/1274 [==============================] - 15s 12ms/step - loss: 1.0928e-04 - val_loss: 1.0722e-04\n",
            "Epoch 12/100\n",
            "1274/1274 [==============================] - 15s 12ms/step - loss: 1.0341e-04 - val_loss: 1.0669e-04\n",
            "Epoch 13/100\n",
            "1274/1274 [==============================] - 15s 12ms/step - loss: 1.0280e-04 - val_loss: 1.2005e-04\n",
            "Epoch 14/100\n",
            "1274/1274 [==============================] - 15s 12ms/step - loss: 9.8349e-05 - val_loss: 1.0687e-04\n",
            "Epoch 15/100\n",
            "1274/1274 [==============================] - 15s 12ms/step - loss: 9.7352e-05 - val_loss: 1.4449e-04\n",
            "Epoch 16/100\n",
            "1274/1274 [==============================] - 15s 12ms/step - loss: 9.4161e-05 - val_loss: 9.4826e-05\n",
            "Epoch 17/100\n",
            "1274/1274 [==============================] - 15s 12ms/step - loss: 8.8459e-05 - val_loss: 1.1368e-04\n",
            "Epoch 18/100\n",
            "1274/1274 [==============================] - 15s 12ms/step - loss: 8.9758e-05 - val_loss: 1.0887e-04\n",
            "Epoch 19/100\n",
            "1274/1274 [==============================] - 15s 12ms/step - loss: 9.2385e-05 - val_loss: 1.0084e-04\n",
            "Epoch 20/100\n",
            "1274/1274 [==============================] - 15s 12ms/step - loss: 8.2282e-05 - val_loss: 8.9319e-05\n",
            "Epoch 21/100\n",
            "1274/1274 [==============================] - 15s 12ms/step - loss: 8.4036e-05 - val_loss: 1.1501e-04\n",
            "Epoch 22/100\n",
            "1274/1274 [==============================] - 15s 12ms/step - loss: 8.3546e-05 - val_loss: 1.0130e-04\n",
            "Epoch 23/100\n",
            "1274/1274 [==============================] - 15s 12ms/step - loss: 8.1813e-05 - val_loss: 9.2314e-05\n",
            "Epoch 24/100\n",
            "1274/1274 [==============================] - 15s 12ms/step - loss: 8.3740e-05 - val_loss: 1.3561e-04\n",
            "Epoch 25/100\n",
            "1274/1274 [==============================] - 15s 12ms/step - loss: 7.9054e-05 - val_loss: 9.7804e-05\n",
            "Epoch 26/100\n",
            "1274/1274 [==============================] - 15s 12ms/step - loss: 7.8049e-05 - val_loss: 9.2916e-05\n",
            "Epoch 27/100\n",
            "1274/1274 [==============================] - 15s 12ms/step - loss: 7.6490e-05 - val_loss: 1.5447e-04\n",
            "Epoch 28/100\n",
            "1274/1274 [==============================] - 15s 12ms/step - loss: 7.3114e-05 - val_loss: 8.8194e-05\n",
            "Epoch 29/100\n",
            "1274/1274 [==============================] - 15s 12ms/step - loss: 7.3362e-05 - val_loss: 9.4240e-05\n",
            "Epoch 30/100\n",
            "1274/1274 [==============================] - 15s 12ms/step - loss: 7.5251e-05 - val_loss: 8.4629e-05\n",
            "Epoch 31/100\n",
            "1274/1274 [==============================] - 15s 12ms/step - loss: 7.1393e-05 - val_loss: 9.7458e-05\n",
            "Epoch 32/100\n",
            "1274/1274 [==============================] - 15s 12ms/step - loss: 7.1636e-05 - val_loss: 8.0351e-05\n",
            "Epoch 33/100\n",
            "1274/1274 [==============================] - 15s 12ms/step - loss: 6.9128e-05 - val_loss: 9.8861e-05\n",
            "Epoch 34/100\n",
            "1274/1274 [==============================] - 15s 12ms/step - loss: 7.1872e-05 - val_loss: 8.1123e-05\n",
            "Epoch 35/100\n",
            "1274/1274 [==============================] - 15s 12ms/step - loss: 6.8198e-05 - val_loss: 9.3329e-05\n",
            "Epoch 36/100\n",
            "1274/1274 [==============================] - 15s 12ms/step - loss: 6.8867e-05 - val_loss: 7.9731e-05\n",
            "Epoch 37/100\n",
            "1274/1274 [==============================] - 15s 12ms/step - loss: 6.6414e-05 - val_loss: 9.9728e-05\n",
            "Epoch 38/100\n",
            "1274/1274 [==============================] - 15s 12ms/step - loss: 6.6648e-05 - val_loss: 8.2504e-05\n",
            "Epoch 39/100\n",
            "1274/1274 [==============================] - 15s 12ms/step - loss: 6.3111e-05 - val_loss: 7.4476e-05\n",
            "Epoch 40/100\n",
            "1274/1274 [==============================] - 15s 12ms/step - loss: 6.5097e-05 - val_loss: 7.3884e-05\n",
            "Epoch 41/100\n",
            "1274/1274 [==============================] - 15s 12ms/step - loss: 6.5990e-05 - val_loss: 7.3112e-05\n",
            "Epoch 42/100\n",
            "1274/1274 [==============================] - 15s 12ms/step - loss: 6.3195e-05 - val_loss: 8.9810e-05\n",
            "Epoch 43/100\n",
            "1274/1274 [==============================] - 15s 12ms/step - loss: 6.0334e-05 - val_loss: 8.8171e-05\n",
            "Epoch 44/100\n",
            "1274/1274 [==============================] - 15s 12ms/step - loss: 6.1711e-05 - val_loss: 7.4232e-05\n",
            "Epoch 45/100\n",
            "1274/1274 [==============================] - 15s 12ms/step - loss: 5.8609e-05 - val_loss: 7.5867e-05\n",
            "Epoch 46/100\n",
            "1274/1274 [==============================] - 15s 12ms/step - loss: 5.8577e-05 - val_loss: 6.9194e-05\n",
            "Epoch 47/100\n",
            "1274/1274 [==============================] - 15s 12ms/step - loss: 5.7639e-05 - val_loss: 8.9476e-05\n",
            "Epoch 48/100\n",
            "1274/1274 [==============================] - 15s 12ms/step - loss: 5.5381e-05 - val_loss: 9.0220e-05\n",
            "Epoch 49/100\n",
            "1274/1274 [==============================] - 15s 12ms/step - loss: 5.6811e-05 - val_loss: 7.0600e-05\n",
            "Epoch 50/100\n",
            "1274/1274 [==============================] - 15s 12ms/step - loss: 5.3640e-05 - val_loss: 8.0042e-05\n",
            "Epoch 51/100\n",
            "1274/1274 [==============================] - 15s 12ms/step - loss: 5.4451e-05 - val_loss: 6.9075e-05\n",
            "Epoch 52/100\n",
            "1274/1274 [==============================] - 15s 12ms/step - loss: 5.3971e-05 - val_loss: 7.0822e-05\n",
            "Epoch 53/100\n",
            "1274/1274 [==============================] - 15s 12ms/step - loss: 5.0987e-05 - val_loss: 6.4686e-05\n",
            "Epoch 54/100\n",
            "1274/1274 [==============================] - 15s 12ms/step - loss: 5.1700e-05 - val_loss: 9.4295e-05\n",
            "Epoch 55/100\n",
            "1274/1274 [==============================] - 15s 12ms/step - loss: 5.1913e-05 - val_loss: 6.4100e-05\n",
            "Epoch 56/100\n",
            "1274/1274 [==============================] - 15s 12ms/step - loss: 4.9983e-05 - val_loss: 6.2545e-05\n",
            "Epoch 57/100\n",
            "1274/1274 [==============================] - 15s 12ms/step - loss: 4.8705e-05 - val_loss: 7.9640e-05\n",
            "Epoch 58/100\n",
            "1274/1274 [==============================] - 15s 12ms/step - loss: 4.8140e-05 - val_loss: 7.4977e-05\n",
            "Epoch 59/100\n",
            "1274/1274 [==============================] - 15s 12ms/step - loss: 4.8599e-05 - val_loss: 6.4141e-05\n",
            "Epoch 60/100\n",
            "1274/1274 [==============================] - 15s 12ms/step - loss: 4.8507e-05 - val_loss: 9.7492e-05\n",
            "Epoch 61/100\n",
            "1274/1274 [==============================] - 15s 12ms/step - loss: 4.7245e-05 - val_loss: 6.2052e-05\n",
            "Epoch 62/100\n",
            "1274/1274 [==============================] - 15s 12ms/step - loss: 4.5784e-05 - val_loss: 5.9676e-05\n",
            "Epoch 63/100\n",
            "1274/1274 [==============================] - 15s 12ms/step - loss: 4.5203e-05 - val_loss: 6.0980e-05\n",
            "Epoch 64/100\n",
            "1274/1274 [==============================] - 15s 12ms/step - loss: 4.6856e-05 - val_loss: 7.6919e-05\n",
            "Epoch 65/100\n",
            "1274/1274 [==============================] - 15s 12ms/step - loss: 4.6026e-05 - val_loss: 6.0554e-05\n",
            "Epoch 66/100\n",
            "1274/1274 [==============================] - 15s 12ms/step - loss: 4.4120e-05 - val_loss: 6.0078e-05\n",
            "Epoch 67/100\n",
            "1274/1274 [==============================] - 15s 12ms/step - loss: 4.2964e-05 - val_loss: 5.9585e-05\n",
            "Epoch 68/100\n",
            "1274/1274 [==============================] - 15s 12ms/step - loss: 4.2896e-05 - val_loss: 6.4709e-05\n",
            "Epoch 69/100\n",
            "1274/1274 [==============================] - 15s 12ms/step - loss: 4.2441e-05 - val_loss: 6.0155e-05\n",
            "Epoch 70/100\n",
            "1274/1274 [==============================] - 15s 12ms/step - loss: 4.2684e-05 - val_loss: 5.7945e-05\n",
            "Epoch 71/100\n",
            "1274/1274 [==============================] - 15s 12ms/step - loss: 4.1525e-05 - val_loss: 6.4363e-05\n",
            "Epoch 72/100\n",
            "1274/1274 [==============================] - 15s 12ms/step - loss: 4.1227e-05 - val_loss: 6.0124e-05\n",
            "Epoch 73/100\n",
            "1274/1274 [==============================] - 15s 12ms/step - loss: 4.2515e-05 - val_loss: 5.7845e-05\n",
            "Epoch 74/100\n",
            "1274/1274 [==============================] - 15s 12ms/step - loss: 4.1604e-05 - val_loss: 6.0232e-05\n",
            "Epoch 75/100\n",
            "1274/1274 [==============================] - 15s 12ms/step - loss: 4.0462e-05 - val_loss: 5.6821e-05\n",
            "Epoch 76/100\n",
            "1274/1274 [==============================] - 15s 12ms/step - loss: 4.0721e-05 - val_loss: 5.6058e-05\n",
            "Epoch 77/100\n",
            "1274/1274 [==============================] - 15s 12ms/step - loss: 3.8481e-05 - val_loss: 6.5037e-05\n",
            "Epoch 78/100\n",
            "1274/1274 [==============================] - 15s 12ms/step - loss: 3.9120e-05 - val_loss: 5.4647e-05\n",
            "Epoch 79/100\n",
            "1274/1274 [==============================] - 15s 12ms/step - loss: 3.9164e-05 - val_loss: 6.8601e-05\n",
            "Epoch 80/100\n",
            "1274/1274 [==============================] - 15s 12ms/step - loss: 3.8164e-05 - val_loss: 5.8355e-05\n",
            "Epoch 81/100\n",
            "1274/1274 [==============================] - 15s 12ms/step - loss: 3.7563e-05 - val_loss: 5.6954e-05\n",
            "Epoch 82/100\n",
            "1274/1274 [==============================] - 15s 12ms/step - loss: 3.6634e-05 - val_loss: 5.4954e-05\n",
            "Epoch 83/100\n",
            "1274/1274 [==============================] - 15s 12ms/step - loss: 3.6195e-05 - val_loss: 5.2455e-05\n",
            "Epoch 84/100\n",
            "1274/1274 [==============================] - 15s 12ms/step - loss: 3.4826e-05 - val_loss: 7.9392e-05\n",
            "Epoch 85/100\n",
            "1274/1274 [==============================] - 15s 12ms/step - loss: 3.5256e-05 - val_loss: 5.2568e-05\n",
            "Epoch 86/100\n",
            "1274/1274 [==============================] - 15s 12ms/step - loss: 3.3998e-05 - val_loss: 6.6468e-05\n",
            "Epoch 87/100\n",
            "1274/1274 [==============================] - 15s 12ms/step - loss: 3.3026e-05 - val_loss: 5.3101e-05\n",
            "Epoch 88/100\n",
            "1274/1274 [==============================] - 15s 12ms/step - loss: 3.3523e-05 - val_loss: 5.1542e-05\n",
            "Epoch 89/100\n",
            "1274/1274 [==============================] - 15s 12ms/step - loss: 3.2709e-05 - val_loss: 5.2784e-05\n",
            "Epoch 90/100\n",
            "1274/1274 [==============================] - 15s 12ms/step - loss: 3.1561e-05 - val_loss: 5.1889e-05\n",
            "Epoch 91/100\n",
            "1274/1274 [==============================] - 15s 12ms/step - loss: 3.1931e-05 - val_loss: 5.2439e-05\n",
            "Epoch 92/100\n",
            "1274/1274 [==============================] - 15s 12ms/step - loss: 3.2363e-05 - val_loss: 5.2101e-05\n",
            "Epoch 93/100\n",
            "1274/1274 [==============================] - 15s 12ms/step - loss: 3.1302e-05 - val_loss: 5.0432e-05\n",
            "Epoch 94/100\n",
            "1274/1274 [==============================] - 15s 12ms/step - loss: 3.2409e-05 - val_loss: 5.0736e-05\n",
            "Epoch 95/100\n",
            "1274/1274 [==============================] - 15s 12ms/step - loss: 3.2090e-05 - val_loss: 5.6685e-05\n",
            "Epoch 96/100\n",
            "1274/1274 [==============================] - 15s 12ms/step - loss: 3.1458e-05 - val_loss: 5.0554e-05\n",
            "Epoch 97/100\n",
            "1274/1274 [==============================] - 15s 12ms/step - loss: 3.1816e-05 - val_loss: 5.6504e-05\n",
            "Epoch 98/100\n",
            "1274/1274 [==============================] - 15s 12ms/step - loss: 3.2055e-05 - val_loss: 5.5606e-05\n",
            "Epoch 99/100\n",
            "1274/1274 [==============================] - 15s 12ms/step - loss: 3.1228e-05 - val_loss: 5.3973e-05\n",
            "Epoch 100/100\n",
            "1274/1274 [==============================] - 15s 12ms/step - loss: 3.0974e-05 - val_loss: 5.4785e-05\n"
          ],
          "name": "stdout"
        },
        {
          "output_type": "execute_result",
          "data": {
            "text/plain": [
              "<tensorflow.python.keras.callbacks.History at 0x7f525ef18b38>"
            ]
          },
          "metadata": {
            "tags": []
          },
          "execution_count": 37
        }
      ]
    },
    {
      "cell_type": "markdown",
      "metadata": {
        "id": "zDxrczS-ELWb"
      },
      "source": [
        "### Predicting the data"
      ]
    },
    {
      "cell_type": "code",
      "metadata": {
        "id": "VXkXFz36_KBY"
      },
      "source": [
        "### Lets Do the prediction and check performance metrics\n",
        "train_predict=model.predict(X_train)\n",
        "test_predict=model.predict(X_test)"
      ],
      "execution_count": 70,
      "outputs": []
    },
    {
      "cell_type": "markdown",
      "metadata": {
        "id": "TtfmtIDzEPb5"
      },
      "source": [
        "### Transform to original form By Inversing as we had scaled earlier"
      ]
    },
    {
      "cell_type": "code",
      "metadata": {
        "id": "oNFkZXHhD9im",
        "outputId": "889b5329-c198-4279-f71a-bab323e7c34b",
        "colab": {
          "base_uri": "https://localhost:8080/",
          "height": 840
        }
      },
      "source": [
        "X_train"
      ],
      "execution_count": 71,
      "outputs": [
        {
          "output_type": "execute_result",
          "data": {
            "text/plain": [
              "array([[[0.        ],\n",
              "        [0.08614141],\n",
              "        [0.01162729],\n",
              "        ...,\n",
              "        [0.13436452],\n",
              "        [0.01732985],\n",
              "        [0.13982374]],\n",
              "\n",
              "       [[0.08614141],\n",
              "        [0.01162729],\n",
              "        [0.08783419],\n",
              "        ...,\n",
              "        [0.01732985],\n",
              "        [0.13982374],\n",
              "        [0.02114919]],\n",
              "\n",
              "       [[0.01162729],\n",
              "        [0.08783419],\n",
              "        [0.01158497],\n",
              "        ...,\n",
              "        [0.13982374],\n",
              "        [0.02114919],\n",
              "        [0.14533586]],\n",
              "\n",
              "       ...,\n",
              "\n",
              "       [[0.34526392],\n",
              "        [0.44710587],\n",
              "        [0.35188692],\n",
              "        ...,\n",
              "        [0.49860875],\n",
              "        [0.3555264 ],\n",
              "        [0.48483374]],\n",
              "\n",
              "       [[0.44710587],\n",
              "        [0.35188692],\n",
              "        [0.45610935],\n",
              "        ...,\n",
              "        [0.3555264 ],\n",
              "        [0.48483374],\n",
              "        [0.34454448]],\n",
              "\n",
              "       [[0.35188692],\n",
              "        [0.45610935],\n",
              "        [0.35294491],\n",
              "        ...,\n",
              "        [0.48483374],\n",
              "        [0.34454448],\n",
              "        [0.48484432]]])"
            ]
          },
          "metadata": {
            "tags": []
          },
          "execution_count": 71
        }
      ]
    },
    {
      "cell_type": "code",
      "metadata": {
        "id": "GCRJyveYERXp",
        "outputId": "5c720866-56e4-434f-e00b-3138e805c7a8",
        "colab": {
          "base_uri": "https://localhost:8080/",
          "height": 134
        }
      },
      "source": [
        "train_predict"
      ],
      "execution_count": 72,
      "outputs": [
        {
          "output_type": "execute_result",
          "data": {
            "text/plain": [
              "array([[-0.00049279],\n",
              "       [-0.00052647],\n",
              "       [-0.00056046],\n",
              "       ...,\n",
              "       [-0.00185698],\n",
              "       [-0.00184162],\n",
              "       [-0.00184648]], dtype=float32)"
            ]
          },
          "metadata": {
            "tags": []
          },
          "execution_count": 72
        }
      ]
    },
    {
      "cell_type": "code",
      "metadata": {
        "id": "xe2zVdWsEYHO"
      },
      "source": [
        "##Transformback to original form\n",
        "train_predict=scaler.inverse_transform(train_predict)\n",
        "test_predict=scaler.inverse_transform(test_predict)"
      ],
      "execution_count": 73,
      "outputs": []
    },
    {
      "cell_type": "code",
      "metadata": {
        "id": "PX5549HDFeM0",
        "outputId": "910325d1-41ee-4de5-c715-6547d7c15408",
        "colab": {
          "base_uri": "https://localhost:8080/",
          "height": 134
        }
      },
      "source": [
        "\n",
        "train_predict"
      ],
      "execution_count": 74,
      "outputs": [
        {
          "output_type": "execute_result",
          "data": {
            "text/plain": [
              "array([[2236.9343],\n",
              "       [2236.9023],\n",
              "       [2236.87  ],\n",
              "       ...,\n",
              "       [2235.6448],\n",
              "       [2235.6594],\n",
              "       [2235.6548]], dtype=float32)"
            ]
          },
          "metadata": {
            "tags": []
          },
          "execution_count": 74
        }
      ]
    },
    {
      "cell_type": "code",
      "metadata": {
        "id": "hQHRUi-WFklo",
        "outputId": "b3553298-1af6-4e50-aeb2-dc8cbd3e6e80",
        "colab": {
          "base_uri": "https://localhost:8080/",
          "height": 50
        }
      },
      "source": [
        "y_train"
      ],
      "execution_count": 75,
      "outputs": [
        {
          "output_type": "execute_result",
          "data": {
            "text/plain": [
              "array([0.02114919, 0.14533586, 0.01936119, ..., 0.34454448, 0.48484432,\n",
              "       0.35211968])"
            ]
          },
          "metadata": {
            "tags": []
          },
          "execution_count": 75
        }
      ]
    },
    {
      "cell_type": "markdown",
      "metadata": {
        "id": "QG1FjVMWEgJK"
      },
      "source": [
        "#### Calculate the RMSE performance matrix"
      ]
    },
    {
      "cell_type": "code",
      "metadata": {
        "id": "t6QB70x-Ek2h",
        "outputId": "076a79d7-ee93-43da-ca0d-caa80e0c8ff8",
        "colab": {
          "base_uri": "https://localhost:8080/",
          "height": 34
        }
      },
      "source": [
        "### Calculate RMSE performance metrics\n",
        "import math\n",
        "from sklearn.metrics import mean_squared_error\n",
        "math.sqrt(mean_squared_error(y_train,train_predict))"
      ],
      "execution_count": 76,
      "outputs": [
        {
          "output_type": "execute_result",
          "data": {
            "text/plain": [
              "2235.4352729206043"
            ]
          },
          "metadata": {
            "tags": []
          },
          "execution_count": 76
        }
      ]
    },
    {
      "cell_type": "code",
      "metadata": {
        "id": "6fMvVswMEov3",
        "outputId": "44d893a6-027a-48f5-e7fc-4ec8d4408f56",
        "colab": {
          "base_uri": "https://localhost:8080/",
          "height": 34
        }
      },
      "source": [
        "### Test Data RMSE\n",
        "math.sqrt(mean_squared_error(ytest,test_predict))"
      ],
      "execution_count": 77,
      "outputs": [
        {
          "output_type": "execute_result",
          "data": {
            "text/plain": [
              "2235.5317132554633"
            ]
          },
          "metadata": {
            "tags": []
          },
          "execution_count": 77
        }
      ]
    },
    {
      "cell_type": "code",
      "metadata": {
        "id": "IYpPJWdBEtY6",
        "outputId": "50fd6ac9-d4ed-4b76-d787-2eac72ab88b8",
        "colab": {
          "base_uri": "https://localhost:8080/",
          "height": 34
        }
      },
      "source": [
        "len(test_data)"
      ],
      "execution_count": 78,
      "outputs": [
        {
          "output_type": "execute_result",
          "data": {
            "text/plain": [
              "43904"
            ]
          },
          "metadata": {
            "tags": []
          },
          "execution_count": 78
        }
      ]
    },
    {
      "cell_type": "markdown",
      "metadata": {
        "id": "7b2Fe9spE0LZ"
      },
      "source": [
        "### Predict the output for future 30 days"
      ]
    },
    {
      "cell_type": "code",
      "metadata": {
        "id": "-kpMiNSzE0m7",
        "outputId": "e622c40e-e719-49cf-9fc3-22c173c9598b",
        "colab": {
          "base_uri": "https://localhost:8080/",
          "height": 34
        }
      },
      "source": [
        "x_input=test_data[43804:].reshape(1,-1)\n",
        "x_input.shape\n"
      ],
      "execution_count": 79,
      "outputs": [
        {
          "output_type": "execute_result",
          "data": {
            "text/plain": [
              "(1, 100)"
            ]
          },
          "metadata": {
            "tags": []
          },
          "execution_count": 79
        }
      ]
    },
    {
      "cell_type": "code",
      "metadata": {
        "id": "SCZG-ZnTE3b5"
      },
      "source": [
        "temp_input=list(x_input)\n",
        "temp_input=temp_input[0].tolist()"
      ],
      "execution_count": 80,
      "outputs": []
    },
    {
      "cell_type": "code",
      "metadata": {
        "id": "OlS_N7OsE52B",
        "outputId": "9bfd0db3-8dff-4407-b315-aa9e0283362e",
        "colab": {
          "base_uri": "https://localhost:8080/",
          "height": 1000
        }
      },
      "source": [
        "temp_input"
      ],
      "execution_count": 81,
      "outputs": [
        {
          "output_type": "execute_result",
          "data": {
            "text/plain": [
              "[0.09161121044446041,\n",
              " 0.17756218326474027,\n",
              " 0.09162179032787021,\n",
              " 0.17756218326474027,\n",
              " 0.09459473756599168,\n",
              " 0.17756218326474027,\n",
              " 0.09319819295591314,\n",
              " 0.17747754419746276,\n",
              " 0.09462647721622108,\n",
              " 0.1705159809138901,\n",
              " 0.09462647721622108,\n",
              " 0.17050540103048029,\n",
              " 0.09318761307250378,\n",
              " 0.17050540103048029,\n",
              " 0.09438313989779834,\n",
              " 0.17050540103048029,\n",
              " 0.0943937197812077,\n",
              " 0.17050540103048029,\n",
              " 0.09428792094711103,\n",
              " 0.17050540103048029,\n",
              " 0.09162179032787021,\n",
              " 0.17050540103048029,\n",
              " 0.09426676118029143,\n",
              " 0.17050540103048029,\n",
              " 0.09008770723346604,\n",
              " 0.17050540103048029,\n",
              " 0.09007712735005624,\n",
              " 0.17050540103048029,\n",
              " 0.0852950200488789,\n",
              " 0.17790073953385033,\n",
              " 0.08270294861350624,\n",
              " 0.16145960071520005,\n",
              " 0.08208931537574404,\n",
              " 0.16145960071520005,\n",
              " 0.07928564627217805,\n",
              " 0.17299167363175627,\n",
              " 0.07963478242469746,\n",
              " 0.16250700917275873,\n",
              " 0.08450152879315231,\n",
              " 0.16250700917275873,\n",
              " 0.08600387223732753,\n",
              " 0.16250700917275873,\n",
              " 0.08733693754694771,\n",
              " 0.162834985558459,\n",
              " 0.08628952908938903,\n",
              " 0.1628455654418688,\n",
              " 0.08626836932256987,\n",
              " 0.16286672520868795,\n",
              " 0.08010029729472379,\n",
              " 0.16793448936192723,\n",
              " 0.08610967107142464,\n",
              " 0.16285614532527815,\n",
              " 0.08610967107142464,\n",
              " 0.16285614532527815,\n",
              " 0.08610967107142464,\n",
              " 0.16285614532527815,\n",
              " 0.08316846348353257,\n",
              " 0.16286672520868795,\n",
              " 0.08317904336694193,\n",
              " 0.16285614532527815,\n",
              " 0.08633184862302778,\n",
              " 0.17301283339857543,\n",
              " 0.08633184862302778,\n",
              " 0.1628984648589169,\n",
              " 0.08633184862302778,\n",
              " 0.17638781620626487,\n",
              " 0.08528444016546954,\n",
              " 0.17638781620626487,\n",
              " 0.08583459410277294,\n",
              " 0.16353325786349782,\n",
              " 0.08583459410277294,\n",
              " 0.17366878616997639,\n",
              " 0.08528444016546954,\n",
              " 0.1686116019001469,\n",
              " 0.0853055999322887,\n",
              " 0.16288788497550755,\n",
              " 0.0853055999322887,\n",
              " 0.17638781620626487,\n",
              " 0.0853055999322887,\n",
              " 0.17638781620626487,\n",
              " 0.08604619177096628,\n",
              " 0.16285614532527815,\n",
              " 0.08738983696399627,\n",
              " 0.162834985558459,\n",
              " 0.09007712735005624,\n",
              " 0.162834985558459,\n",
              " 0.09007712735005624,\n",
              " 0.162834985558459,\n",
              " 0.09007712735005624,\n",
              " 0.1780805975518147,\n",
              " 0.08762259439900921,\n",
              " 0.1780805975518147,\n",
              " 0.08762259439900921,\n",
              " 0.1780805975518147,\n",
              " 0.09008770723346604,\n",
              " 0.1657127138458936,\n",
              " 0.08788709148425156,\n",
              " 0.1657127138458936,\n",
              " 0.08788709148425156,\n",
              " 0.1657127138458936]"
            ]
          },
          "metadata": {
            "tags": []
          },
          "execution_count": 81
        }
      ]
    },
    {
      "cell_type": "code",
      "metadata": {
        "id": "7RVBWG4hFA9v",
        "outputId": "a62f2a31-6453-4987-c3d8-818118dd8fcf",
        "colab": {
          "base_uri": "https://localhost:8080/",
          "height": 1000
        }
      },
      "source": [
        "# demonstrate prediction for next 30 days\n",
        "from numpy import array\n",
        "\n",
        "lst_output=[]\n",
        "n_steps=100\n",
        "i=0\n",
        "while(i<30):\n",
        "    \n",
        "    if(len(temp_input)>100):\n",
        "        #print(temp_input)\n",
        "        x_input=np.array(temp_input[1:])\n",
        "        print(\"{} day input {}\".format(i,x_input))\n",
        "        x_input=x_input.reshape(1,-1)\n",
        "        x_input = x_input.reshape((1, n_steps, 1))\n",
        "        #print(x_input)\n",
        "        yhat = model.predict_classes(x_input, verbose=0)\n",
        "        print(\"{} day output {}\".format(i,yhat))\n",
        "        temp_input.extend(yhat[0].tolist())\n",
        "        temp_input=temp_input[1:]\n",
        "        #print(temp_input)\n",
        "        lst_output.extend(yhat.tolist())\n",
        "        i=i+1\n",
        "    else:\n",
        "        x_input = x_input.reshape((1, n_steps,1))\n",
        "        yhat = model.predict_classes(x_input, verbose=0)\n",
        "        print(yhat[0])\n",
        "        temp_input.extend(yhat[0].tolist())\n",
        "        print(len(temp_input))\n",
        "        lst_output.extend(yhat.tolist())\n",
        "        i=i+1\n",
        "    \n",
        "\n",
        "print(lst_output)"
      ],
      "execution_count": 82,
      "outputs": [
        {
          "output_type": "stream",
          "text": [
            "[0]\n",
            "101\n",
            "1 day input [0.17756218 0.09162179 0.17756218 0.09459474 0.17756218 0.09319819\n",
            " 0.17747754 0.09462648 0.17051598 0.09462648 0.1705054  0.09318761\n",
            " 0.1705054  0.09438314 0.1705054  0.09439372 0.1705054  0.09428792\n",
            " 0.1705054  0.09162179 0.1705054  0.09426676 0.1705054  0.09008771\n",
            " 0.1705054  0.09007713 0.1705054  0.08529502 0.17790074 0.08270295\n",
            " 0.1614596  0.08208932 0.1614596  0.07928565 0.17299167 0.07963478\n",
            " 0.16250701 0.08450153 0.16250701 0.08600387 0.16250701 0.08733694\n",
            " 0.16283499 0.08628953 0.16284557 0.08626837 0.16286673 0.0801003\n",
            " 0.16793449 0.08610967 0.16285615 0.08610967 0.16285615 0.08610967\n",
            " 0.16285615 0.08316846 0.16286673 0.08317904 0.16285615 0.08633185\n",
            " 0.17301283 0.08633185 0.16289846 0.08633185 0.17638782 0.08528444\n",
            " 0.17638782 0.08583459 0.16353326 0.08583459 0.17366879 0.08528444\n",
            " 0.1686116  0.0853056  0.16288788 0.0853056  0.17638782 0.0853056\n",
            " 0.17638782 0.08604619 0.16285615 0.08738984 0.16283499 0.09007713\n",
            " 0.16283499 0.09007713 0.16283499 0.09007713 0.1780806  0.08762259\n",
            " 0.1780806  0.08762259 0.1780806  0.09008771 0.16571271 0.08788709\n",
            " 0.16571271 0.08788709 0.16571271 0.        ]\n",
            "1 day output [[0]]\n",
            "2 day input [0.09162179 0.17756218 0.09459474 0.17756218 0.09319819 0.17747754\n",
            " 0.09462648 0.17051598 0.09462648 0.1705054  0.09318761 0.1705054\n",
            " 0.09438314 0.1705054  0.09439372 0.1705054  0.09428792 0.1705054\n",
            " 0.09162179 0.1705054  0.09426676 0.1705054  0.09008771 0.1705054\n",
            " 0.09007713 0.1705054  0.08529502 0.17790074 0.08270295 0.1614596\n",
            " 0.08208932 0.1614596  0.07928565 0.17299167 0.07963478 0.16250701\n",
            " 0.08450153 0.16250701 0.08600387 0.16250701 0.08733694 0.16283499\n",
            " 0.08628953 0.16284557 0.08626837 0.16286673 0.0801003  0.16793449\n",
            " 0.08610967 0.16285615 0.08610967 0.16285615 0.08610967 0.16285615\n",
            " 0.08316846 0.16286673 0.08317904 0.16285615 0.08633185 0.17301283\n",
            " 0.08633185 0.16289846 0.08633185 0.17638782 0.08528444 0.17638782\n",
            " 0.08583459 0.16353326 0.08583459 0.17366879 0.08528444 0.1686116\n",
            " 0.0853056  0.16288788 0.0853056  0.17638782 0.0853056  0.17638782\n",
            " 0.08604619 0.16285615 0.08738984 0.16283499 0.09007713 0.16283499\n",
            " 0.09007713 0.16283499 0.09007713 0.1780806  0.08762259 0.1780806\n",
            " 0.08762259 0.1780806  0.09008771 0.16571271 0.08788709 0.16571271\n",
            " 0.08788709 0.16571271 0.         0.        ]\n",
            "2 day output [[0]]\n",
            "3 day input [0.17756218 0.09459474 0.17756218 0.09319819 0.17747754 0.09462648\n",
            " 0.17051598 0.09462648 0.1705054  0.09318761 0.1705054  0.09438314\n",
            " 0.1705054  0.09439372 0.1705054  0.09428792 0.1705054  0.09162179\n",
            " 0.1705054  0.09426676 0.1705054  0.09008771 0.1705054  0.09007713\n",
            " 0.1705054  0.08529502 0.17790074 0.08270295 0.1614596  0.08208932\n",
            " 0.1614596  0.07928565 0.17299167 0.07963478 0.16250701 0.08450153\n",
            " 0.16250701 0.08600387 0.16250701 0.08733694 0.16283499 0.08628953\n",
            " 0.16284557 0.08626837 0.16286673 0.0801003  0.16793449 0.08610967\n",
            " 0.16285615 0.08610967 0.16285615 0.08610967 0.16285615 0.08316846\n",
            " 0.16286673 0.08317904 0.16285615 0.08633185 0.17301283 0.08633185\n",
            " 0.16289846 0.08633185 0.17638782 0.08528444 0.17638782 0.08583459\n",
            " 0.16353326 0.08583459 0.17366879 0.08528444 0.1686116  0.0853056\n",
            " 0.16288788 0.0853056  0.17638782 0.0853056  0.17638782 0.08604619\n",
            " 0.16285615 0.08738984 0.16283499 0.09007713 0.16283499 0.09007713\n",
            " 0.16283499 0.09007713 0.1780806  0.08762259 0.1780806  0.08762259\n",
            " 0.1780806  0.09008771 0.16571271 0.08788709 0.16571271 0.08788709\n",
            " 0.16571271 0.         0.         0.        ]\n",
            "3 day output [[0]]\n",
            "4 day input [0.09459474 0.17756218 0.09319819 0.17747754 0.09462648 0.17051598\n",
            " 0.09462648 0.1705054  0.09318761 0.1705054  0.09438314 0.1705054\n",
            " 0.09439372 0.1705054  0.09428792 0.1705054  0.09162179 0.1705054\n",
            " 0.09426676 0.1705054  0.09008771 0.1705054  0.09007713 0.1705054\n",
            " 0.08529502 0.17790074 0.08270295 0.1614596  0.08208932 0.1614596\n",
            " 0.07928565 0.17299167 0.07963478 0.16250701 0.08450153 0.16250701\n",
            " 0.08600387 0.16250701 0.08733694 0.16283499 0.08628953 0.16284557\n",
            " 0.08626837 0.16286673 0.0801003  0.16793449 0.08610967 0.16285615\n",
            " 0.08610967 0.16285615 0.08610967 0.16285615 0.08316846 0.16286673\n",
            " 0.08317904 0.16285615 0.08633185 0.17301283 0.08633185 0.16289846\n",
            " 0.08633185 0.17638782 0.08528444 0.17638782 0.08583459 0.16353326\n",
            " 0.08583459 0.17366879 0.08528444 0.1686116  0.0853056  0.16288788\n",
            " 0.0853056  0.17638782 0.0853056  0.17638782 0.08604619 0.16285615\n",
            " 0.08738984 0.16283499 0.09007713 0.16283499 0.09007713 0.16283499\n",
            " 0.09007713 0.1780806  0.08762259 0.1780806  0.08762259 0.1780806\n",
            " 0.09008771 0.16571271 0.08788709 0.16571271 0.08788709 0.16571271\n",
            " 0.         0.         0.         0.        ]\n",
            "4 day output [[0]]\n",
            "5 day input [0.17756218 0.09319819 0.17747754 0.09462648 0.17051598 0.09462648\n",
            " 0.1705054  0.09318761 0.1705054  0.09438314 0.1705054  0.09439372\n",
            " 0.1705054  0.09428792 0.1705054  0.09162179 0.1705054  0.09426676\n",
            " 0.1705054  0.09008771 0.1705054  0.09007713 0.1705054  0.08529502\n",
            " 0.17790074 0.08270295 0.1614596  0.08208932 0.1614596  0.07928565\n",
            " 0.17299167 0.07963478 0.16250701 0.08450153 0.16250701 0.08600387\n",
            " 0.16250701 0.08733694 0.16283499 0.08628953 0.16284557 0.08626837\n",
            " 0.16286673 0.0801003  0.16793449 0.08610967 0.16285615 0.08610967\n",
            " 0.16285615 0.08610967 0.16285615 0.08316846 0.16286673 0.08317904\n",
            " 0.16285615 0.08633185 0.17301283 0.08633185 0.16289846 0.08633185\n",
            " 0.17638782 0.08528444 0.17638782 0.08583459 0.16353326 0.08583459\n",
            " 0.17366879 0.08528444 0.1686116  0.0853056  0.16288788 0.0853056\n",
            " 0.17638782 0.0853056  0.17638782 0.08604619 0.16285615 0.08738984\n",
            " 0.16283499 0.09007713 0.16283499 0.09007713 0.16283499 0.09007713\n",
            " 0.1780806  0.08762259 0.1780806  0.08762259 0.1780806  0.09008771\n",
            " 0.16571271 0.08788709 0.16571271 0.08788709 0.16571271 0.\n",
            " 0.         0.         0.         0.        ]\n",
            "5 day output [[0]]\n",
            "6 day input [0.09319819 0.17747754 0.09462648 0.17051598 0.09462648 0.1705054\n",
            " 0.09318761 0.1705054  0.09438314 0.1705054  0.09439372 0.1705054\n",
            " 0.09428792 0.1705054  0.09162179 0.1705054  0.09426676 0.1705054\n",
            " 0.09008771 0.1705054  0.09007713 0.1705054  0.08529502 0.17790074\n",
            " 0.08270295 0.1614596  0.08208932 0.1614596  0.07928565 0.17299167\n",
            " 0.07963478 0.16250701 0.08450153 0.16250701 0.08600387 0.16250701\n",
            " 0.08733694 0.16283499 0.08628953 0.16284557 0.08626837 0.16286673\n",
            " 0.0801003  0.16793449 0.08610967 0.16285615 0.08610967 0.16285615\n",
            " 0.08610967 0.16285615 0.08316846 0.16286673 0.08317904 0.16285615\n",
            " 0.08633185 0.17301283 0.08633185 0.16289846 0.08633185 0.17638782\n",
            " 0.08528444 0.17638782 0.08583459 0.16353326 0.08583459 0.17366879\n",
            " 0.08528444 0.1686116  0.0853056  0.16288788 0.0853056  0.17638782\n",
            " 0.0853056  0.17638782 0.08604619 0.16285615 0.08738984 0.16283499\n",
            " 0.09007713 0.16283499 0.09007713 0.16283499 0.09007713 0.1780806\n",
            " 0.08762259 0.1780806  0.08762259 0.1780806  0.09008771 0.16571271\n",
            " 0.08788709 0.16571271 0.08788709 0.16571271 0.         0.\n",
            " 0.         0.         0.         0.        ]\n",
            "6 day output [[0]]\n",
            "7 day input [0.17747754 0.09462648 0.17051598 0.09462648 0.1705054  0.09318761\n",
            " 0.1705054  0.09438314 0.1705054  0.09439372 0.1705054  0.09428792\n",
            " 0.1705054  0.09162179 0.1705054  0.09426676 0.1705054  0.09008771\n",
            " 0.1705054  0.09007713 0.1705054  0.08529502 0.17790074 0.08270295\n",
            " 0.1614596  0.08208932 0.1614596  0.07928565 0.17299167 0.07963478\n",
            " 0.16250701 0.08450153 0.16250701 0.08600387 0.16250701 0.08733694\n",
            " 0.16283499 0.08628953 0.16284557 0.08626837 0.16286673 0.0801003\n",
            " 0.16793449 0.08610967 0.16285615 0.08610967 0.16285615 0.08610967\n",
            " 0.16285615 0.08316846 0.16286673 0.08317904 0.16285615 0.08633185\n",
            " 0.17301283 0.08633185 0.16289846 0.08633185 0.17638782 0.08528444\n",
            " 0.17638782 0.08583459 0.16353326 0.08583459 0.17366879 0.08528444\n",
            " 0.1686116  0.0853056  0.16288788 0.0853056  0.17638782 0.0853056\n",
            " 0.17638782 0.08604619 0.16285615 0.08738984 0.16283499 0.09007713\n",
            " 0.16283499 0.09007713 0.16283499 0.09007713 0.1780806  0.08762259\n",
            " 0.1780806  0.08762259 0.1780806  0.09008771 0.16571271 0.08788709\n",
            " 0.16571271 0.08788709 0.16571271 0.         0.         0.\n",
            " 0.         0.         0.         0.        ]\n",
            "7 day output [[0]]\n",
            "8 day input [0.09462648 0.17051598 0.09462648 0.1705054  0.09318761 0.1705054\n",
            " 0.09438314 0.1705054  0.09439372 0.1705054  0.09428792 0.1705054\n",
            " 0.09162179 0.1705054  0.09426676 0.1705054  0.09008771 0.1705054\n",
            " 0.09007713 0.1705054  0.08529502 0.17790074 0.08270295 0.1614596\n",
            " 0.08208932 0.1614596  0.07928565 0.17299167 0.07963478 0.16250701\n",
            " 0.08450153 0.16250701 0.08600387 0.16250701 0.08733694 0.16283499\n",
            " 0.08628953 0.16284557 0.08626837 0.16286673 0.0801003  0.16793449\n",
            " 0.08610967 0.16285615 0.08610967 0.16285615 0.08610967 0.16285615\n",
            " 0.08316846 0.16286673 0.08317904 0.16285615 0.08633185 0.17301283\n",
            " 0.08633185 0.16289846 0.08633185 0.17638782 0.08528444 0.17638782\n",
            " 0.08583459 0.16353326 0.08583459 0.17366879 0.08528444 0.1686116\n",
            " 0.0853056  0.16288788 0.0853056  0.17638782 0.0853056  0.17638782\n",
            " 0.08604619 0.16285615 0.08738984 0.16283499 0.09007713 0.16283499\n",
            " 0.09007713 0.16283499 0.09007713 0.1780806  0.08762259 0.1780806\n",
            " 0.08762259 0.1780806  0.09008771 0.16571271 0.08788709 0.16571271\n",
            " 0.08788709 0.16571271 0.         0.         0.         0.\n",
            " 0.         0.         0.         0.        ]\n",
            "8 day output [[0]]\n",
            "9 day input [0.17051598 0.09462648 0.1705054  0.09318761 0.1705054  0.09438314\n",
            " 0.1705054  0.09439372 0.1705054  0.09428792 0.1705054  0.09162179\n",
            " 0.1705054  0.09426676 0.1705054  0.09008771 0.1705054  0.09007713\n",
            " 0.1705054  0.08529502 0.17790074 0.08270295 0.1614596  0.08208932\n",
            " 0.1614596  0.07928565 0.17299167 0.07963478 0.16250701 0.08450153\n",
            " 0.16250701 0.08600387 0.16250701 0.08733694 0.16283499 0.08628953\n",
            " 0.16284557 0.08626837 0.16286673 0.0801003  0.16793449 0.08610967\n",
            " 0.16285615 0.08610967 0.16285615 0.08610967 0.16285615 0.08316846\n",
            " 0.16286673 0.08317904 0.16285615 0.08633185 0.17301283 0.08633185\n",
            " 0.16289846 0.08633185 0.17638782 0.08528444 0.17638782 0.08583459\n",
            " 0.16353326 0.08583459 0.17366879 0.08528444 0.1686116  0.0853056\n",
            " 0.16288788 0.0853056  0.17638782 0.0853056  0.17638782 0.08604619\n",
            " 0.16285615 0.08738984 0.16283499 0.09007713 0.16283499 0.09007713\n",
            " 0.16283499 0.09007713 0.1780806  0.08762259 0.1780806  0.08762259\n",
            " 0.1780806  0.09008771 0.16571271 0.08788709 0.16571271 0.08788709\n",
            " 0.16571271 0.         0.         0.         0.         0.\n",
            " 0.         0.         0.         0.        ]\n",
            "9 day output [[0]]\n",
            "10 day input [0.09462648 0.1705054  0.09318761 0.1705054  0.09438314 0.1705054\n",
            " 0.09439372 0.1705054  0.09428792 0.1705054  0.09162179 0.1705054\n",
            " 0.09426676 0.1705054  0.09008771 0.1705054  0.09007713 0.1705054\n",
            " 0.08529502 0.17790074 0.08270295 0.1614596  0.08208932 0.1614596\n",
            " 0.07928565 0.17299167 0.07963478 0.16250701 0.08450153 0.16250701\n",
            " 0.08600387 0.16250701 0.08733694 0.16283499 0.08628953 0.16284557\n",
            " 0.08626837 0.16286673 0.0801003  0.16793449 0.08610967 0.16285615\n",
            " 0.08610967 0.16285615 0.08610967 0.16285615 0.08316846 0.16286673\n",
            " 0.08317904 0.16285615 0.08633185 0.17301283 0.08633185 0.16289846\n",
            " 0.08633185 0.17638782 0.08528444 0.17638782 0.08583459 0.16353326\n",
            " 0.08583459 0.17366879 0.08528444 0.1686116  0.0853056  0.16288788\n",
            " 0.0853056  0.17638782 0.0853056  0.17638782 0.08604619 0.16285615\n",
            " 0.08738984 0.16283499 0.09007713 0.16283499 0.09007713 0.16283499\n",
            " 0.09007713 0.1780806  0.08762259 0.1780806  0.08762259 0.1780806\n",
            " 0.09008771 0.16571271 0.08788709 0.16571271 0.08788709 0.16571271\n",
            " 0.         0.         0.         0.         0.         0.\n",
            " 0.         0.         0.         0.        ]\n",
            "10 day output [[0]]\n",
            "11 day input [0.1705054  0.09318761 0.1705054  0.09438314 0.1705054  0.09439372\n",
            " 0.1705054  0.09428792 0.1705054  0.09162179 0.1705054  0.09426676\n",
            " 0.1705054  0.09008771 0.1705054  0.09007713 0.1705054  0.08529502\n",
            " 0.17790074 0.08270295 0.1614596  0.08208932 0.1614596  0.07928565\n",
            " 0.17299167 0.07963478 0.16250701 0.08450153 0.16250701 0.08600387\n",
            " 0.16250701 0.08733694 0.16283499 0.08628953 0.16284557 0.08626837\n",
            " 0.16286673 0.0801003  0.16793449 0.08610967 0.16285615 0.08610967\n",
            " 0.16285615 0.08610967 0.16285615 0.08316846 0.16286673 0.08317904\n",
            " 0.16285615 0.08633185 0.17301283 0.08633185 0.16289846 0.08633185\n",
            " 0.17638782 0.08528444 0.17638782 0.08583459 0.16353326 0.08583459\n",
            " 0.17366879 0.08528444 0.1686116  0.0853056  0.16288788 0.0853056\n",
            " 0.17638782 0.0853056  0.17638782 0.08604619 0.16285615 0.08738984\n",
            " 0.16283499 0.09007713 0.16283499 0.09007713 0.16283499 0.09007713\n",
            " 0.1780806  0.08762259 0.1780806  0.08762259 0.1780806  0.09008771\n",
            " 0.16571271 0.08788709 0.16571271 0.08788709 0.16571271 0.\n",
            " 0.         0.         0.         0.         0.         0.\n",
            " 0.         0.         0.         0.        ]\n",
            "11 day output [[0]]\n",
            "12 day input [0.09318761 0.1705054  0.09438314 0.1705054  0.09439372 0.1705054\n",
            " 0.09428792 0.1705054  0.09162179 0.1705054  0.09426676 0.1705054\n",
            " 0.09008771 0.1705054  0.09007713 0.1705054  0.08529502 0.17790074\n",
            " 0.08270295 0.1614596  0.08208932 0.1614596  0.07928565 0.17299167\n",
            " 0.07963478 0.16250701 0.08450153 0.16250701 0.08600387 0.16250701\n",
            " 0.08733694 0.16283499 0.08628953 0.16284557 0.08626837 0.16286673\n",
            " 0.0801003  0.16793449 0.08610967 0.16285615 0.08610967 0.16285615\n",
            " 0.08610967 0.16285615 0.08316846 0.16286673 0.08317904 0.16285615\n",
            " 0.08633185 0.17301283 0.08633185 0.16289846 0.08633185 0.17638782\n",
            " 0.08528444 0.17638782 0.08583459 0.16353326 0.08583459 0.17366879\n",
            " 0.08528444 0.1686116  0.0853056  0.16288788 0.0853056  0.17638782\n",
            " 0.0853056  0.17638782 0.08604619 0.16285615 0.08738984 0.16283499\n",
            " 0.09007713 0.16283499 0.09007713 0.16283499 0.09007713 0.1780806\n",
            " 0.08762259 0.1780806  0.08762259 0.1780806  0.09008771 0.16571271\n",
            " 0.08788709 0.16571271 0.08788709 0.16571271 0.         0.\n",
            " 0.         0.         0.         0.         0.         0.\n",
            " 0.         0.         0.         0.        ]\n",
            "12 day output [[0]]\n",
            "13 day input [0.1705054  0.09438314 0.1705054  0.09439372 0.1705054  0.09428792\n",
            " 0.1705054  0.09162179 0.1705054  0.09426676 0.1705054  0.09008771\n",
            " 0.1705054  0.09007713 0.1705054  0.08529502 0.17790074 0.08270295\n",
            " 0.1614596  0.08208932 0.1614596  0.07928565 0.17299167 0.07963478\n",
            " 0.16250701 0.08450153 0.16250701 0.08600387 0.16250701 0.08733694\n",
            " 0.16283499 0.08628953 0.16284557 0.08626837 0.16286673 0.0801003\n",
            " 0.16793449 0.08610967 0.16285615 0.08610967 0.16285615 0.08610967\n",
            " 0.16285615 0.08316846 0.16286673 0.08317904 0.16285615 0.08633185\n",
            " 0.17301283 0.08633185 0.16289846 0.08633185 0.17638782 0.08528444\n",
            " 0.17638782 0.08583459 0.16353326 0.08583459 0.17366879 0.08528444\n",
            " 0.1686116  0.0853056  0.16288788 0.0853056  0.17638782 0.0853056\n",
            " 0.17638782 0.08604619 0.16285615 0.08738984 0.16283499 0.09007713\n",
            " 0.16283499 0.09007713 0.16283499 0.09007713 0.1780806  0.08762259\n",
            " 0.1780806  0.08762259 0.1780806  0.09008771 0.16571271 0.08788709\n",
            " 0.16571271 0.08788709 0.16571271 0.         0.         0.\n",
            " 0.         0.         0.         0.         0.         0.\n",
            " 0.         0.         0.         0.        ]\n",
            "13 day output [[0]]\n",
            "14 day input [0.09438314 0.1705054  0.09439372 0.1705054  0.09428792 0.1705054\n",
            " 0.09162179 0.1705054  0.09426676 0.1705054  0.09008771 0.1705054\n",
            " 0.09007713 0.1705054  0.08529502 0.17790074 0.08270295 0.1614596\n",
            " 0.08208932 0.1614596  0.07928565 0.17299167 0.07963478 0.16250701\n",
            " 0.08450153 0.16250701 0.08600387 0.16250701 0.08733694 0.16283499\n",
            " 0.08628953 0.16284557 0.08626837 0.16286673 0.0801003  0.16793449\n",
            " 0.08610967 0.16285615 0.08610967 0.16285615 0.08610967 0.16285615\n",
            " 0.08316846 0.16286673 0.08317904 0.16285615 0.08633185 0.17301283\n",
            " 0.08633185 0.16289846 0.08633185 0.17638782 0.08528444 0.17638782\n",
            " 0.08583459 0.16353326 0.08583459 0.17366879 0.08528444 0.1686116\n",
            " 0.0853056  0.16288788 0.0853056  0.17638782 0.0853056  0.17638782\n",
            " 0.08604619 0.16285615 0.08738984 0.16283499 0.09007713 0.16283499\n",
            " 0.09007713 0.16283499 0.09007713 0.1780806  0.08762259 0.1780806\n",
            " 0.08762259 0.1780806  0.09008771 0.16571271 0.08788709 0.16571271\n",
            " 0.08788709 0.16571271 0.         0.         0.         0.\n",
            " 0.         0.         0.         0.         0.         0.\n",
            " 0.         0.         0.         0.        ]\n",
            "14 day output [[0]]\n",
            "15 day input [0.1705054  0.09439372 0.1705054  0.09428792 0.1705054  0.09162179\n",
            " 0.1705054  0.09426676 0.1705054  0.09008771 0.1705054  0.09007713\n",
            " 0.1705054  0.08529502 0.17790074 0.08270295 0.1614596  0.08208932\n",
            " 0.1614596  0.07928565 0.17299167 0.07963478 0.16250701 0.08450153\n",
            " 0.16250701 0.08600387 0.16250701 0.08733694 0.16283499 0.08628953\n",
            " 0.16284557 0.08626837 0.16286673 0.0801003  0.16793449 0.08610967\n",
            " 0.16285615 0.08610967 0.16285615 0.08610967 0.16285615 0.08316846\n",
            " 0.16286673 0.08317904 0.16285615 0.08633185 0.17301283 0.08633185\n",
            " 0.16289846 0.08633185 0.17638782 0.08528444 0.17638782 0.08583459\n",
            " 0.16353326 0.08583459 0.17366879 0.08528444 0.1686116  0.0853056\n",
            " 0.16288788 0.0853056  0.17638782 0.0853056  0.17638782 0.08604619\n",
            " 0.16285615 0.08738984 0.16283499 0.09007713 0.16283499 0.09007713\n",
            " 0.16283499 0.09007713 0.1780806  0.08762259 0.1780806  0.08762259\n",
            " 0.1780806  0.09008771 0.16571271 0.08788709 0.16571271 0.08788709\n",
            " 0.16571271 0.         0.         0.         0.         0.\n",
            " 0.         0.         0.         0.         0.         0.\n",
            " 0.         0.         0.         0.        ]\n",
            "15 day output [[0]]\n",
            "16 day input [0.09439372 0.1705054  0.09428792 0.1705054  0.09162179 0.1705054\n",
            " 0.09426676 0.1705054  0.09008771 0.1705054  0.09007713 0.1705054\n",
            " 0.08529502 0.17790074 0.08270295 0.1614596  0.08208932 0.1614596\n",
            " 0.07928565 0.17299167 0.07963478 0.16250701 0.08450153 0.16250701\n",
            " 0.08600387 0.16250701 0.08733694 0.16283499 0.08628953 0.16284557\n",
            " 0.08626837 0.16286673 0.0801003  0.16793449 0.08610967 0.16285615\n",
            " 0.08610967 0.16285615 0.08610967 0.16285615 0.08316846 0.16286673\n",
            " 0.08317904 0.16285615 0.08633185 0.17301283 0.08633185 0.16289846\n",
            " 0.08633185 0.17638782 0.08528444 0.17638782 0.08583459 0.16353326\n",
            " 0.08583459 0.17366879 0.08528444 0.1686116  0.0853056  0.16288788\n",
            " 0.0853056  0.17638782 0.0853056  0.17638782 0.08604619 0.16285615\n",
            " 0.08738984 0.16283499 0.09007713 0.16283499 0.09007713 0.16283499\n",
            " 0.09007713 0.1780806  0.08762259 0.1780806  0.08762259 0.1780806\n",
            " 0.09008771 0.16571271 0.08788709 0.16571271 0.08788709 0.16571271\n",
            " 0.         0.         0.         0.         0.         0.\n",
            " 0.         0.         0.         0.         0.         0.\n",
            " 0.         0.         0.         0.        ]\n",
            "16 day output [[0]]\n",
            "17 day input [0.1705054  0.09428792 0.1705054  0.09162179 0.1705054  0.09426676\n",
            " 0.1705054  0.09008771 0.1705054  0.09007713 0.1705054  0.08529502\n",
            " 0.17790074 0.08270295 0.1614596  0.08208932 0.1614596  0.07928565\n",
            " 0.17299167 0.07963478 0.16250701 0.08450153 0.16250701 0.08600387\n",
            " 0.16250701 0.08733694 0.16283499 0.08628953 0.16284557 0.08626837\n",
            " 0.16286673 0.0801003  0.16793449 0.08610967 0.16285615 0.08610967\n",
            " 0.16285615 0.08610967 0.16285615 0.08316846 0.16286673 0.08317904\n",
            " 0.16285615 0.08633185 0.17301283 0.08633185 0.16289846 0.08633185\n",
            " 0.17638782 0.08528444 0.17638782 0.08583459 0.16353326 0.08583459\n",
            " 0.17366879 0.08528444 0.1686116  0.0853056  0.16288788 0.0853056\n",
            " 0.17638782 0.0853056  0.17638782 0.08604619 0.16285615 0.08738984\n",
            " 0.16283499 0.09007713 0.16283499 0.09007713 0.16283499 0.09007713\n",
            " 0.1780806  0.08762259 0.1780806  0.08762259 0.1780806  0.09008771\n",
            " 0.16571271 0.08788709 0.16571271 0.08788709 0.16571271 0.\n",
            " 0.         0.         0.         0.         0.         0.\n",
            " 0.         0.         0.         0.         0.         0.\n",
            " 0.         0.         0.         0.        ]\n",
            "17 day output [[0]]\n",
            "18 day input [0.09428792 0.1705054  0.09162179 0.1705054  0.09426676 0.1705054\n",
            " 0.09008771 0.1705054  0.09007713 0.1705054  0.08529502 0.17790074\n",
            " 0.08270295 0.1614596  0.08208932 0.1614596  0.07928565 0.17299167\n",
            " 0.07963478 0.16250701 0.08450153 0.16250701 0.08600387 0.16250701\n",
            " 0.08733694 0.16283499 0.08628953 0.16284557 0.08626837 0.16286673\n",
            " 0.0801003  0.16793449 0.08610967 0.16285615 0.08610967 0.16285615\n",
            " 0.08610967 0.16285615 0.08316846 0.16286673 0.08317904 0.16285615\n",
            " 0.08633185 0.17301283 0.08633185 0.16289846 0.08633185 0.17638782\n",
            " 0.08528444 0.17638782 0.08583459 0.16353326 0.08583459 0.17366879\n",
            " 0.08528444 0.1686116  0.0853056  0.16288788 0.0853056  0.17638782\n",
            " 0.0853056  0.17638782 0.08604619 0.16285615 0.08738984 0.16283499\n",
            " 0.09007713 0.16283499 0.09007713 0.16283499 0.09007713 0.1780806\n",
            " 0.08762259 0.1780806  0.08762259 0.1780806  0.09008771 0.16571271\n",
            " 0.08788709 0.16571271 0.08788709 0.16571271 0.         0.\n",
            " 0.         0.         0.         0.         0.         0.\n",
            " 0.         0.         0.         0.         0.         0.\n",
            " 0.         0.         0.         0.        ]\n",
            "18 day output [[0]]\n",
            "19 day input [0.1705054  0.09162179 0.1705054  0.09426676 0.1705054  0.09008771\n",
            " 0.1705054  0.09007713 0.1705054  0.08529502 0.17790074 0.08270295\n",
            " 0.1614596  0.08208932 0.1614596  0.07928565 0.17299167 0.07963478\n",
            " 0.16250701 0.08450153 0.16250701 0.08600387 0.16250701 0.08733694\n",
            " 0.16283499 0.08628953 0.16284557 0.08626837 0.16286673 0.0801003\n",
            " 0.16793449 0.08610967 0.16285615 0.08610967 0.16285615 0.08610967\n",
            " 0.16285615 0.08316846 0.16286673 0.08317904 0.16285615 0.08633185\n",
            " 0.17301283 0.08633185 0.16289846 0.08633185 0.17638782 0.08528444\n",
            " 0.17638782 0.08583459 0.16353326 0.08583459 0.17366879 0.08528444\n",
            " 0.1686116  0.0853056  0.16288788 0.0853056  0.17638782 0.0853056\n",
            " 0.17638782 0.08604619 0.16285615 0.08738984 0.16283499 0.09007713\n",
            " 0.16283499 0.09007713 0.16283499 0.09007713 0.1780806  0.08762259\n",
            " 0.1780806  0.08762259 0.1780806  0.09008771 0.16571271 0.08788709\n",
            " 0.16571271 0.08788709 0.16571271 0.         0.         0.\n",
            " 0.         0.         0.         0.         0.         0.\n",
            " 0.         0.         0.         0.         0.         0.\n",
            " 0.         0.         0.         0.        ]\n",
            "19 day output [[0]]\n",
            "20 day input [0.09162179 0.1705054  0.09426676 0.1705054  0.09008771 0.1705054\n",
            " 0.09007713 0.1705054  0.08529502 0.17790074 0.08270295 0.1614596\n",
            " 0.08208932 0.1614596  0.07928565 0.17299167 0.07963478 0.16250701\n",
            " 0.08450153 0.16250701 0.08600387 0.16250701 0.08733694 0.16283499\n",
            " 0.08628953 0.16284557 0.08626837 0.16286673 0.0801003  0.16793449\n",
            " 0.08610967 0.16285615 0.08610967 0.16285615 0.08610967 0.16285615\n",
            " 0.08316846 0.16286673 0.08317904 0.16285615 0.08633185 0.17301283\n",
            " 0.08633185 0.16289846 0.08633185 0.17638782 0.08528444 0.17638782\n",
            " 0.08583459 0.16353326 0.08583459 0.17366879 0.08528444 0.1686116\n",
            " 0.0853056  0.16288788 0.0853056  0.17638782 0.0853056  0.17638782\n",
            " 0.08604619 0.16285615 0.08738984 0.16283499 0.09007713 0.16283499\n",
            " 0.09007713 0.16283499 0.09007713 0.1780806  0.08762259 0.1780806\n",
            " 0.08762259 0.1780806  0.09008771 0.16571271 0.08788709 0.16571271\n",
            " 0.08788709 0.16571271 0.         0.         0.         0.\n",
            " 0.         0.         0.         0.         0.         0.\n",
            " 0.         0.         0.         0.         0.         0.\n",
            " 0.         0.         0.         0.        ]\n",
            "20 day output [[0]]\n",
            "21 day input [0.1705054  0.09426676 0.1705054  0.09008771 0.1705054  0.09007713\n",
            " 0.1705054  0.08529502 0.17790074 0.08270295 0.1614596  0.08208932\n",
            " 0.1614596  0.07928565 0.17299167 0.07963478 0.16250701 0.08450153\n",
            " 0.16250701 0.08600387 0.16250701 0.08733694 0.16283499 0.08628953\n",
            " 0.16284557 0.08626837 0.16286673 0.0801003  0.16793449 0.08610967\n",
            " 0.16285615 0.08610967 0.16285615 0.08610967 0.16285615 0.08316846\n",
            " 0.16286673 0.08317904 0.16285615 0.08633185 0.17301283 0.08633185\n",
            " 0.16289846 0.08633185 0.17638782 0.08528444 0.17638782 0.08583459\n",
            " 0.16353326 0.08583459 0.17366879 0.08528444 0.1686116  0.0853056\n",
            " 0.16288788 0.0853056  0.17638782 0.0853056  0.17638782 0.08604619\n",
            " 0.16285615 0.08738984 0.16283499 0.09007713 0.16283499 0.09007713\n",
            " 0.16283499 0.09007713 0.1780806  0.08762259 0.1780806  0.08762259\n",
            " 0.1780806  0.09008771 0.16571271 0.08788709 0.16571271 0.08788709\n",
            " 0.16571271 0.         0.         0.         0.         0.\n",
            " 0.         0.         0.         0.         0.         0.\n",
            " 0.         0.         0.         0.         0.         0.\n",
            " 0.         0.         0.         0.        ]\n",
            "21 day output [[0]]\n",
            "22 day input [0.09426676 0.1705054  0.09008771 0.1705054  0.09007713 0.1705054\n",
            " 0.08529502 0.17790074 0.08270295 0.1614596  0.08208932 0.1614596\n",
            " 0.07928565 0.17299167 0.07963478 0.16250701 0.08450153 0.16250701\n",
            " 0.08600387 0.16250701 0.08733694 0.16283499 0.08628953 0.16284557\n",
            " 0.08626837 0.16286673 0.0801003  0.16793449 0.08610967 0.16285615\n",
            " 0.08610967 0.16285615 0.08610967 0.16285615 0.08316846 0.16286673\n",
            " 0.08317904 0.16285615 0.08633185 0.17301283 0.08633185 0.16289846\n",
            " 0.08633185 0.17638782 0.08528444 0.17638782 0.08583459 0.16353326\n",
            " 0.08583459 0.17366879 0.08528444 0.1686116  0.0853056  0.16288788\n",
            " 0.0853056  0.17638782 0.0853056  0.17638782 0.08604619 0.16285615\n",
            " 0.08738984 0.16283499 0.09007713 0.16283499 0.09007713 0.16283499\n",
            " 0.09007713 0.1780806  0.08762259 0.1780806  0.08762259 0.1780806\n",
            " 0.09008771 0.16571271 0.08788709 0.16571271 0.08788709 0.16571271\n",
            " 0.         0.         0.         0.         0.         0.\n",
            " 0.         0.         0.         0.         0.         0.\n",
            " 0.         0.         0.         0.         0.         0.\n",
            " 0.         0.         0.         0.        ]\n",
            "22 day output [[0]]\n",
            "23 day input [0.1705054  0.09008771 0.1705054  0.09007713 0.1705054  0.08529502\n",
            " 0.17790074 0.08270295 0.1614596  0.08208932 0.1614596  0.07928565\n",
            " 0.17299167 0.07963478 0.16250701 0.08450153 0.16250701 0.08600387\n",
            " 0.16250701 0.08733694 0.16283499 0.08628953 0.16284557 0.08626837\n",
            " 0.16286673 0.0801003  0.16793449 0.08610967 0.16285615 0.08610967\n",
            " 0.16285615 0.08610967 0.16285615 0.08316846 0.16286673 0.08317904\n",
            " 0.16285615 0.08633185 0.17301283 0.08633185 0.16289846 0.08633185\n",
            " 0.17638782 0.08528444 0.17638782 0.08583459 0.16353326 0.08583459\n",
            " 0.17366879 0.08528444 0.1686116  0.0853056  0.16288788 0.0853056\n",
            " 0.17638782 0.0853056  0.17638782 0.08604619 0.16285615 0.08738984\n",
            " 0.16283499 0.09007713 0.16283499 0.09007713 0.16283499 0.09007713\n",
            " 0.1780806  0.08762259 0.1780806  0.08762259 0.1780806  0.09008771\n",
            " 0.16571271 0.08788709 0.16571271 0.08788709 0.16571271 0.\n",
            " 0.         0.         0.         0.         0.         0.\n",
            " 0.         0.         0.         0.         0.         0.\n",
            " 0.         0.         0.         0.         0.         0.\n",
            " 0.         0.         0.         0.        ]\n",
            "23 day output [[0]]\n",
            "24 day input [0.09008771 0.1705054  0.09007713 0.1705054  0.08529502 0.17790074\n",
            " 0.08270295 0.1614596  0.08208932 0.1614596  0.07928565 0.17299167\n",
            " 0.07963478 0.16250701 0.08450153 0.16250701 0.08600387 0.16250701\n",
            " 0.08733694 0.16283499 0.08628953 0.16284557 0.08626837 0.16286673\n",
            " 0.0801003  0.16793449 0.08610967 0.16285615 0.08610967 0.16285615\n",
            " 0.08610967 0.16285615 0.08316846 0.16286673 0.08317904 0.16285615\n",
            " 0.08633185 0.17301283 0.08633185 0.16289846 0.08633185 0.17638782\n",
            " 0.08528444 0.17638782 0.08583459 0.16353326 0.08583459 0.17366879\n",
            " 0.08528444 0.1686116  0.0853056  0.16288788 0.0853056  0.17638782\n",
            " 0.0853056  0.17638782 0.08604619 0.16285615 0.08738984 0.16283499\n",
            " 0.09007713 0.16283499 0.09007713 0.16283499 0.09007713 0.1780806\n",
            " 0.08762259 0.1780806  0.08762259 0.1780806  0.09008771 0.16571271\n",
            " 0.08788709 0.16571271 0.08788709 0.16571271 0.         0.\n",
            " 0.         0.         0.         0.         0.         0.\n",
            " 0.         0.         0.         0.         0.         0.\n",
            " 0.         0.         0.         0.         0.         0.\n",
            " 0.         0.         0.         0.        ]\n",
            "24 day output [[0]]\n",
            "25 day input [0.1705054  0.09007713 0.1705054  0.08529502 0.17790074 0.08270295\n",
            " 0.1614596  0.08208932 0.1614596  0.07928565 0.17299167 0.07963478\n",
            " 0.16250701 0.08450153 0.16250701 0.08600387 0.16250701 0.08733694\n",
            " 0.16283499 0.08628953 0.16284557 0.08626837 0.16286673 0.0801003\n",
            " 0.16793449 0.08610967 0.16285615 0.08610967 0.16285615 0.08610967\n",
            " 0.16285615 0.08316846 0.16286673 0.08317904 0.16285615 0.08633185\n",
            " 0.17301283 0.08633185 0.16289846 0.08633185 0.17638782 0.08528444\n",
            " 0.17638782 0.08583459 0.16353326 0.08583459 0.17366879 0.08528444\n",
            " 0.1686116  0.0853056  0.16288788 0.0853056  0.17638782 0.0853056\n",
            " 0.17638782 0.08604619 0.16285615 0.08738984 0.16283499 0.09007713\n",
            " 0.16283499 0.09007713 0.16283499 0.09007713 0.1780806  0.08762259\n",
            " 0.1780806  0.08762259 0.1780806  0.09008771 0.16571271 0.08788709\n",
            " 0.16571271 0.08788709 0.16571271 0.         0.         0.\n",
            " 0.         0.         0.         0.         0.         0.\n",
            " 0.         0.         0.         0.         0.         0.\n",
            " 0.         0.         0.         0.         0.         0.\n",
            " 0.         0.         0.         0.        ]\n",
            "25 day output [[0]]\n",
            "26 day input [0.09007713 0.1705054  0.08529502 0.17790074 0.08270295 0.1614596\n",
            " 0.08208932 0.1614596  0.07928565 0.17299167 0.07963478 0.16250701\n",
            " 0.08450153 0.16250701 0.08600387 0.16250701 0.08733694 0.16283499\n",
            " 0.08628953 0.16284557 0.08626837 0.16286673 0.0801003  0.16793449\n",
            " 0.08610967 0.16285615 0.08610967 0.16285615 0.08610967 0.16285615\n",
            " 0.08316846 0.16286673 0.08317904 0.16285615 0.08633185 0.17301283\n",
            " 0.08633185 0.16289846 0.08633185 0.17638782 0.08528444 0.17638782\n",
            " 0.08583459 0.16353326 0.08583459 0.17366879 0.08528444 0.1686116\n",
            " 0.0853056  0.16288788 0.0853056  0.17638782 0.0853056  0.17638782\n",
            " 0.08604619 0.16285615 0.08738984 0.16283499 0.09007713 0.16283499\n",
            " 0.09007713 0.16283499 0.09007713 0.1780806  0.08762259 0.1780806\n",
            " 0.08762259 0.1780806  0.09008771 0.16571271 0.08788709 0.16571271\n",
            " 0.08788709 0.16571271 0.         0.         0.         0.\n",
            " 0.         0.         0.         0.         0.         0.\n",
            " 0.         0.         0.         0.         0.         0.\n",
            " 0.         0.         0.         0.         0.         0.\n",
            " 0.         0.         0.         0.        ]\n",
            "26 day output [[0]]\n",
            "27 day input [0.1705054  0.08529502 0.17790074 0.08270295 0.1614596  0.08208932\n",
            " 0.1614596  0.07928565 0.17299167 0.07963478 0.16250701 0.08450153\n",
            " 0.16250701 0.08600387 0.16250701 0.08733694 0.16283499 0.08628953\n",
            " 0.16284557 0.08626837 0.16286673 0.0801003  0.16793449 0.08610967\n",
            " 0.16285615 0.08610967 0.16285615 0.08610967 0.16285615 0.08316846\n",
            " 0.16286673 0.08317904 0.16285615 0.08633185 0.17301283 0.08633185\n",
            " 0.16289846 0.08633185 0.17638782 0.08528444 0.17638782 0.08583459\n",
            " 0.16353326 0.08583459 0.17366879 0.08528444 0.1686116  0.0853056\n",
            " 0.16288788 0.0853056  0.17638782 0.0853056  0.17638782 0.08604619\n",
            " 0.16285615 0.08738984 0.16283499 0.09007713 0.16283499 0.09007713\n",
            " 0.16283499 0.09007713 0.1780806  0.08762259 0.1780806  0.08762259\n",
            " 0.1780806  0.09008771 0.16571271 0.08788709 0.16571271 0.08788709\n",
            " 0.16571271 0.         0.         0.         0.         0.\n",
            " 0.         0.         0.         0.         0.         0.\n",
            " 0.         0.         0.         0.         0.         0.\n",
            " 0.         0.         0.         0.         0.         0.\n",
            " 0.         0.         0.         0.        ]\n",
            "27 day output [[0]]\n",
            "28 day input [0.08529502 0.17790074 0.08270295 0.1614596  0.08208932 0.1614596\n",
            " 0.07928565 0.17299167 0.07963478 0.16250701 0.08450153 0.16250701\n",
            " 0.08600387 0.16250701 0.08733694 0.16283499 0.08628953 0.16284557\n",
            " 0.08626837 0.16286673 0.0801003  0.16793449 0.08610967 0.16285615\n",
            " 0.08610967 0.16285615 0.08610967 0.16285615 0.08316846 0.16286673\n",
            " 0.08317904 0.16285615 0.08633185 0.17301283 0.08633185 0.16289846\n",
            " 0.08633185 0.17638782 0.08528444 0.17638782 0.08583459 0.16353326\n",
            " 0.08583459 0.17366879 0.08528444 0.1686116  0.0853056  0.16288788\n",
            " 0.0853056  0.17638782 0.0853056  0.17638782 0.08604619 0.16285615\n",
            " 0.08738984 0.16283499 0.09007713 0.16283499 0.09007713 0.16283499\n",
            " 0.09007713 0.1780806  0.08762259 0.1780806  0.08762259 0.1780806\n",
            " 0.09008771 0.16571271 0.08788709 0.16571271 0.08788709 0.16571271\n",
            " 0.         0.         0.         0.         0.         0.\n",
            " 0.         0.         0.         0.         0.         0.\n",
            " 0.         0.         0.         0.         0.         0.\n",
            " 0.         0.         0.         0.         0.         0.\n",
            " 0.         0.         0.         0.        ]\n",
            "28 day output [[0]]\n",
            "29 day input [0.17790074 0.08270295 0.1614596  0.08208932 0.1614596  0.07928565\n",
            " 0.17299167 0.07963478 0.16250701 0.08450153 0.16250701 0.08600387\n",
            " 0.16250701 0.08733694 0.16283499 0.08628953 0.16284557 0.08626837\n",
            " 0.16286673 0.0801003  0.16793449 0.08610967 0.16285615 0.08610967\n",
            " 0.16285615 0.08610967 0.16285615 0.08316846 0.16286673 0.08317904\n",
            " 0.16285615 0.08633185 0.17301283 0.08633185 0.16289846 0.08633185\n",
            " 0.17638782 0.08528444 0.17638782 0.08583459 0.16353326 0.08583459\n",
            " 0.17366879 0.08528444 0.1686116  0.0853056  0.16288788 0.0853056\n",
            " 0.17638782 0.0853056  0.17638782 0.08604619 0.16285615 0.08738984\n",
            " 0.16283499 0.09007713 0.16283499 0.09007713 0.16283499 0.09007713\n",
            " 0.1780806  0.08762259 0.1780806  0.08762259 0.1780806  0.09008771\n",
            " 0.16571271 0.08788709 0.16571271 0.08788709 0.16571271 0.\n",
            " 0.         0.         0.         0.         0.         0.\n",
            " 0.         0.         0.         0.         0.         0.\n",
            " 0.         0.         0.         0.         0.         0.\n",
            " 0.         0.         0.         0.         0.         0.\n",
            " 0.         0.         0.         0.        ]\n",
            "29 day output [[0]]\n",
            "[[0], [0], [0], [0], [0], [0], [0], [0], [0], [0], [0], [0], [0], [0], [0], [0], [0], [0], [0], [0], [0], [0], [0], [0], [0], [0], [0], [0], [0], [0]]\n"
          ],
          "name": "stdout"
        }
      ]
    },
    {
      "cell_type": "markdown",
      "metadata": {
        "id": "JqH7rOYeFApz"
      },
      "source": [
        ""
      ]
    },
    {
      "cell_type": "code",
      "metadata": {
        "id": "6WIiu3wgT5Ee"
      },
      "source": [
        "lst_output=scaler.inverse_transform(lst_output)"
      ],
      "execution_count": 83,
      "outputs": []
    },
    {
      "cell_type": "markdown",
      "metadata": {
        "id": "V6MI4hkoUf1h"
      },
      "source": [
        "Price after 30 days"
      ]
    },
    {
      "cell_type": "code",
      "metadata": {
        "id": "hFAgP9lZUILa",
        "outputId": "9fc548c0-2cd9-4dc8-a5f6-560912628546",
        "colab": {
          "base_uri": "https://localhost:8080/",
          "height": 34
        }
      },
      "source": [
        "lst_output[-1]"
      ],
      "execution_count": 84,
      "outputs": [
        {
          "output_type": "execute_result",
          "data": {
            "text/plain": [
              "array([2237.4])"
            ]
          },
          "metadata": {
            "tags": []
          },
          "execution_count": 84
        }
      ]
    },
    {
      "cell_type": "code",
      "metadata": {
        "id": "bt4V7a9RUcQ0"
      },
      "source": [
        ""
      ],
      "execution_count": null,
      "outputs": []
    }
  ]
}